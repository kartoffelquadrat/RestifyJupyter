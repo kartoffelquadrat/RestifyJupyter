{
 "cells": [
  {
   "cell_type": "markdown",
   "source": [
    "# RESTify Controled Experiment Data Analysis\n",
    "\n",
    "This Jupyter Notebook illustrates the design and results obtained throughout the McGill RESTify Controled Experiment.\n",
    " * For more information on the experiment, visit the [RESTify Experiment Recruitment Page](https://www.cs.mcgill.ca/~mschie3/recruitment/).\n",
    " * For a PDF version of our findings, visit [LINK TBA WHEN WE HAVE PUBLISHED](...).\n",
    " * To follow up our methodology and reproduce all our results and analysis **on your machine**, continue reading...\n",
    "\n",
    "## Step 1 - Representative population and fair group partition\n",
    "\n",
    "Our first challenge was the creation of representative control groups. The experiment layout required us to form four groups of equal size, with a comparable skill set. We [implemented a heuristic algorithm](https://github.com/m5c/RecruitmentFormInterpreter) that analyzed participant profiles to form comparable control groups. This step was notably challenging because of the combinatoric overhead of possible combinations and participants reactively retracting from the study, which required several rounds of recruitment. Yet we were able to form adequate control groups. The details of this first step and statistics to indicate their comparability are described in the following.\n",
    "\n",
    "### Test population\n",
    "\n",
    "We recruited 28 software engineers from various backgrounds. By consequence the individual skill profiles were highly diverse, a factor that we consider desirable for the relevance of the experiment. The skill vectors were extractede from a preliminary recruitment procedure, where participants were [asked to provide a self evaluation of their skills](https://www.cs.mcgill.ca/~mschie3/recruitment/self-assessment.txt), where 1 signifies no and 5 signifies expert knowledge. We acknowledge that self-assessments are subjective and hard to verify. Yet the questions were phrased in a manner that forwarded objective results.\n",
    "\n",
    "#### Diversity\n",
    "\n",
    "The next cell computes and displays the overall skill distribution of our final test population. The individual gaussian curves represent the seven skills requested in the test assessment form:\n",
    " * Proficiency in JAVA (Light Grey)\n",
    " * Proficiency with the Spring Framework (Mint)\n",
    " * Proficiency with the Build-System Maven (Light Blue)\n",
    " * Knowledge about the Modeling Tool TouchCORE (Deep Purple)\n",
    " * Proficiency with the UNIX/OS command line (Pink)\n",
    " * Knowledge about the REST networking paradigm (Red)\n",
    " * Knowledge about the Singleton pattern (Orange)\n",
    " * Knowledge about Reflection in programming languages (Dark Grey)\n",
    " We acknowledge that we obtain a considerable deviation for all the above skills:\n"
   ],
   "metadata": {
    "collapsed": false,
    "pycharm": {
     "name": "#%% md\n"
    }
   }
  },
  {
   "cell_type": "code",
   "execution_count": null,
   "outputs": [],
   "source": [
    "# display_population_gaussian.py\n",
    "\"\"\"\n",
    "This module reads participant skills from the participantskills.csv file, computes the gaussian\n",
    "distributions per skill and creates a plot. The output file is stored in:\n",
    "\"generated-plots/gaussian.png\"\n",
    "Author: Maximilian Schiedermeier\n",
    "\"\"\"\n",
    "\n",
    "from restify_mining.data_objects import participant_stat_tools\n",
    "from restify_mining.markers import skills_markers\n",
    "from restify_mining.data_objects.participant import Participant\n",
    "from restify_mining.plotters.skill_plotter import plot_gaussian\n",
    "from csv_tools import file_load_utils\n",
    "\n",
    "# Load all participant objects (specifies skills, codename, control-group) from csv file\n",
    "population: list[Participant] = file_load_utils.load_all_participants()\n",
    "\n",
    "# Compute a gaussian distribution (defined by mean and standard dev) for every skill and produce\n",
    "# plot\n",
    "mean_scores = participant_stat_tools.build_mean_skills(population)\n",
    "stddev_scores = participant_stat_tools.build_standard_deviation_skills(population)\n",
    "\n",
    "# Plot gaussian curves for all participant skills\n",
    "for index in range(len(skills_markers.skill_tags)):\n",
    "    plot_gaussian(mean_scores[index], stddev_scores[index], skills_markers.palette[index])\n",
    "\n"
   ],
   "metadata": {
    "collapsed": false,
    "pycharm": {
     "name": "#%%\n"
    }
   }
  },
  {
   "cell_type": "markdown",
   "source": [
    "TODO: also print grid values. Reuse table from recruitment.md here.\n",
    "---\n",
    "The above densities can be considered sufficiently diverse for the purpose of our study. Although the population showcases varying average skill scores, the population likewise showcases a substantial score diversity for every skill observed. Yet we are acknowledge that the above data stems from subjective self-evaluations and is not necessarily a ground truth indicator for the population's actual skill diversity.\n",
    "\n",
    "### Control groups\n",
    "\n",
    "Goal of the experiment is the comparison of refactoring methodologies. To eliminate learning effects we asked participants to apply the two methodologies on different applications. Eliminating potential bias by task and application order resulted in a participant repartition into four control groups.\n",
    "\n",
    "#### Heuristic Search for MiniMax\n",
    "We ran a heuristic balancing algorithm to obtain control groups with high comparability in regards to their average score per skill. The algorithm searched for the participant distribution with lowest difference in skill differences per pair of team. Specifically, on every iteration we used the highest score difference on the same skill for any pair of control groups as quality metric. The original partitions were highly comparable: For every tested partition, we computed the highest difference for skill scores between any pair of teams. Goal was to minimize the value as far as possible, resulting in control groups that are highly comparable in any skill. We called this goal the search for the *MiniMax*. The value obtained through our heuristic for the originally recruited population was as low as ```0.6```, that means no matter what skill and pair of groups compared, the average difference in skill was guaranteed to be equal or lower to ```0.6```.\n",
    "\n",
    "#### Droppers\n",
    "Unfortunately participants dropped out, even after having committed to a task. At this point we were able to hire replacements, however it was impossible to re-generate a fully optimized new control group repartition. At this point we had already received the first test results and since due to learning effects the study can not be run twice by the same participant, we had to reduce optimizations to a brute force testing of all permutations of dropped out participants and potential replacements. This adjustment had to be repeated three times, since participants kept dropping out, even after deadline extensions and reassured intent of participation.  \n",
    "Yet finally we were able to conclude the study with a population of 28 participants. Although comparability is not as optimal as in the original distribution, we were lucky enough to have ended up with somewhat comparable control groups.\n",
    "\n",
    "The full boxplot of skill distributions per control group and resulting MiniMax (grid, printed in bold) is generated below:"
   ],
   "metadata": {
    "collapsed": false,
    "pycharm": {
     "name": "#%% md\n"
    }
   }
  },
  {
   "cell_type": "code",
   "execution_count": 2,
   "id": "4e8bf8ce",
   "metadata": {
    "pycharm": {
     "name": "#%%\n"
    }
   },
   "outputs": [
    {
     "data": {
      "image/png": "[encoded data removed]",
      "text/plain": [
       "<Figure size 1008x288 with 1 Axes>"
      ]
     },
     "metadata": {
      "needs_background": "light"
     },
     "output_type": "display_data"
    }
   ],
   "source": [
    "# display_control_group_skill_boxplot.py\n",
    "\"\"\"\n",
    "This module reads participant skills from the participantskills.csv file, computes then a boxplot\n",
    "distribution representation per skill and group and fuses all resulting representation into a png\n",
    "file. The output file is stored in:\n",
    "\"generated-plots/boxplot.png\"\n",
    "Author: Maximilian Schiedermeier\n",
    "\"\"\"\n",
    "\n",
    "from restify_mining.data_objects import participant_filter_tools\n",
    "from restify_mining.data_objects.participant import Participant\n",
    "from restify_mining.markers.skills_markers import skill_tags, palette\n",
    "from restify_mining.plotters.skill_plotter import plot_box\n",
    "from csv_tools import file_load_utils\n",
    "\n",
    "# Load all participant objects (specifies skills, codename, control-group) from csv file\n",
    "population: list[Participant] = file_load_utils.load_all_participants()\n",
    "\n",
    "# Creating the boxplot comes down to ordering all raw skill values of all participants into the\n",
    "# order required by the plotter. The statistical markers are then extracted automatically.\n",
    "# Namely, the required order is: all values for skill 1 of participants of group 1, all values\n",
    "# for skill 1 of participants of group 2, ... all values for skill 2 of participants of group 1,\n",
    "# and so on...\n",
    "plotter_skill_values = []\n",
    "control_groups: list[str] = participant_filter_tools.extract_group_names(population)\n",
    "\n",
    "# To fill the plotter_skill_value list, first iterate over all skills in outer loop\n",
    "for skill_index in range(len(skill_tags)):\n",
    "\n",
    "    # Next: per skill iterate over all participants ordered by control group in inner loop\n",
    "    for control_group in control_groups:\n",
    "        control_group_population = participant_filter_tools.filter_population_by_group(population, control_group)\n",
    "\n",
    "        # Append the value every participant of the current control group has for the current skill\n",
    "        plotter_skill_values.append(\n",
    "            participant_filter_tools.get_skill_values_by_index(control_group_population,\n",
    "                                                               skill_index))\n",
    "\n",
    "# Finally feed the long list of all skill values in the order, required by the box plotter\n",
    "plot_box(plotter_skill_values, palette, len(control_groups), \"generated-plots/fused-stats.png\")"
   ]
  },
  {
   "cell_type": "code",
   "execution_count": 3,
   "id": "63721840",
   "metadata": {
    "pycharm": {
     "name": "#%%\n"
    }
   },
   "outputs": [
    {
     "name": "stdout",
     "output_type": "stream",
     "text": [
      "Control group comparability analysis. Listing of greatest differences (average skill values) between any pairs of control groups:\n",
      "Java\t: \tAVG_MIN=2.9,\tAVG_MAX=, 3.4,\tMAX_AVG_DIFF=0.6\n",
      "Spring\t: \tAVG_MIN=1.7,\tAVG_MAX=, 2.4,\tMAX_AVG_DIFF=0.7\n",
      "MVN\t: \tAVG_MIN=2.3,\tAVG_MAX=, 2.7,\tMAX_AVG_DIFF=0.4\n",
      "T.CORE\t: \tAVG_MIN=2.3,\tAVG_MAX=, 2.7,\tMAX_AVG_DIFF=0.4\n",
      "UNIX\t: \tAVG_MIN=3.7,\tAVG_MAX=, 4.0,\tMAX_AVG_DIFF=0.3\n",
      "REST\t: \tAVG_MIN=3.3,\tAVG_MAX=, 3.7,\tMAX_AVG_DIFF=0.4\n",
      "Singl.\t: \tAVG_MIN=3.6,\tAVG_MAX=, 5.0,\tMAX_AVG_DIFF=1.4\n",
      "Refl.\t: \tAVG_MIN=2.6,\tAVG_MAX=, 3.3,\tMAX_AVG_DIFF=0.7\n",
      "--------------\n",
      "The worst difference in average skill values between two control groups in the given partition appears for:\n",
      "\t\"Singleton\", with a difference of 1.4\n"
     ]
    }
   ],
   "source": [
    "# compute_group_skill_diffs\n",
    "\n",
    "\"\"\"\n",
    "This module computes and prints the maximum skill difference between any pair of control groups,\n",
    "for all skill. Highlights the greatest (worst competence comparability) of these values as metric\n",
    "for the given control group distribution. A preliminary goal in search for a meaningful partition\n",
    "was the minimization of this value (Search for MiniMax). The current value is worse is not the best\n",
    "possible solution, since the population evolved over time (enrolled participants dropping out and\n",
    "being replaced).\n",
    "Author: Maximilian Schiedermeier\n",
    "\"\"\"\n",
    "\n",
    "from restify_mining.data_objects.participant import Participant\n",
    "from restify_mining.data_objects import participant_filter_tools as pft\n",
    "from restify_mining.markers.skills_markers import full_skill_tags, skill_tags, get_formated_skill_tag\n",
    "from csv_tools import file_load_utils\n",
    "\n",
    "# Print disclaimer\n",
    "print(\n",
    "    \"Control group comparability analysis. Listing of greatest differences (average skill values) \"\n",
    "    \"between any pairs of control groups:\")\n",
    "\n",
    "# Load all participant objects (specifies skills, codename, control group) from csv file\n",
    "population: list[Participant] = file_load_utils.load_all_participants()\n",
    "\n",
    "# Prepare variables to remember worst average difference and corresponding index\n",
    "worst_min_max_diff: float = 0.0\n",
    "worst_min_max_diff_index: int = 0\n",
    "\n",
    "# Iterate over skills and for each compute the average score difference for any pair of control\n",
    "# groups. Print the highest (worst) value found.\n",
    "control_groups: list[str] = pft.extract_group_names(population)\n",
    "for skill_index, skill in enumerate(skill_tags):\n",
    "\n",
    "    # Compute average skill value for each control group\n",
    "    average_skill_values = []\n",
    "    for control_group in control_groups:\n",
    "        control_group_population = pft.filter_population_by_group(population, control_group)\n",
    "        average_skill_values.append(\n",
    "            pft.get_average_skill_value_by_index(control_group_population, skill_index))\n",
    "\n",
    "    # Print line with lowers, highest and max diff values for given skill:\n",
    "    avg_min: float = min(average_skill_values)\n",
    "    avg_max: float = max(average_skill_values)\n",
    "    avg_min_max_diff = avg_max - avg_min\n",
    "\n",
    "    # Update high-score if the results for this skill are worse than anything encountered so far\n",
    "    if avg_min_max_diff > worst_min_max_diff:\n",
    "        worst_min_max_diff = avg_min_max_diff\n",
    "        worst_min_max_diff_index = skill_index\n",
    "\n",
    "    # Print the stats for the current skill\n",
    "    print(get_formated_skill_tag(skill_index) + \": \\tAVG_MIN=\" + str(round(avg_min, 1))\n",
    "          + \",\\tAVG_MAX=, \" + str(round(avg_max, 1)) +\n",
    "          \",\\tMAX_AVG_DIFF=\" + str(round(avg_max - avg_min, 1)))\n",
    "\n",
    "# Print the name of the skill that serves as metric for this partition.\n",
    "print(\"--------------\")\n",
    "print(\n",
    "    \"The worst difference in average skill values between two control groups in the given \"\n",
    "    \"partition appears for:\")\n",
    "print(\"\\t\\\"\" + full_skill_tags[worst_min_max_diff_index] + \"\\\", with a difference of \" + str(\n",
    "    round(worst_min_max_diff, 1)))\n"
   ]
  },
  {
   "cell_type": "markdown",
   "id": "bd1ed541",
   "metadata": {
    "pycharm": {
     "name": "#%% md\n"
    }
   },
   "source": [
    "## Step 2 - Fusing the data\n",
    "\n",
    "Throughout the experiment we measured different metrics per participant. Those are stored in separate CSV files. Some of them were auto-generated by additional scripts, some were created by hand.  \n",
    "In a first step we are going to fuse all individual CSV files, using the *participant codename* as key. The codename consists of a colour and an animal.\n",
    "\n",
    " > We used a total of 4 control groups, *Red*, *Green*, *Blue*, *Yellow*, each starring 7 participants. This setup was chosen to reduce learning effects.\n",
    " \n",
    " The outcome of below cell is a new file: ```restify.csv```.  \n",
    " This file lists all data we ever process in the following, indexed by *participant codename*."
   ]
  },
  {
   "cell_type": "code",
   "execution_count": 4,
   "id": "0d697205",
   "metadata": {
    "pycharm": {
     "name": "#%%\n"
    }
   },
   "outputs": [
    {
     "name": "stdout",
     "output_type": "stream",
     "text": [
      "codename,controlgroup,animal,javaskill,springskill,mavenskill,touchcoreskill,unixskill,restskill,singletonskill,reflectionskill,groupindex,firstapp,secondapp,firstmethodology,secondmethodology,tcinstructions,ideinstructions,xoxtime,bookstoretime,xoxverified,bsverified,tccomments,idecomments,assistedstatus,assistedsuccessrate,manualstatus,manualsuccessrate,GET/xox,POST/xox,GET/xox/id,DEL/xox/id,GET/xox/id/board,GET/xox/id/players,GET/xox/id/players/id/actions,POST/xox/id/players/id/actions/actionid,GET/bookstore/isbns,GET/bookstore/isbns/isbn,PUT/bookstore/isbns/isbn,GET/bookstore/stocklocations,GET/bookstore/stocklocations/stocklocation,GET/bookstore/stocklocations/stocklocation/isbns,POST/bookstore/stocklocations/stocklocation/isbns,GET/bookstore/isbns/isbn/comments,POST/bookstore/isbns/isbn/comments,DEL/bookstore/isbns/isbn/comments,POST/bookstore/isbns/isbn/comments/comment,DEL/bookstore/isbns/isbn/comments/comment\n",
      "Red-Squid,red,squid,3,1,2,1,4,2,5,1,0,bookstore,xox,touchcore,manual,1210,2636,2713,1256,True,True,\"Replicates TC screencast on zoo while watching instructions. Jumps back and forth between instructions and trying things out for zoo. This is why the tcinstructions take longer. Also takes time to tweak touchcore resolution during instruction video, which was supposed to be done as preliminaries. (Excluded from time measurement). When working on own task (BS) does at first not open the right persepctive and attempts to model BookStore REST tree as feature model - happens because they skip most of the instructions and directly scroll to the bookstore REST interface description. Very fast once in the right touchcore perspective.\",\"At first does not watch instructinos and jumps direclty to task descriptions. OpensIDE before having watched instruction video. Since instructions exemplify on zoo, first replicates zoo. Apparently did not read that they have to work on a different application. Eventually starts reading from top and opens screencast. Does not watch screencast to end but directly replicates steps on zoo. Replicates even the steps that are only shown for troubleshooting, eg IDE cache invalidation. Does not follow instrucitons. Enters their actual name instead of pseudonym sent by email. Jumps back and forth in seconds interval between manual zoo restify instructions and manual task solving (of Zoo, not of xox!). Forgot parent clause in pom.xml while replicating steps on zoo. Keeps reloading entire project into IntelliJ rather than comparing their pom.xml to the provided snippet or to the instructions. Eventually proceeds in video, ignoring errors in pom.xml. Video stalls at some point for 10 minutes. Absolutely nothing happens. Assuming this is AFK, and excluded from video time measurement). Eventually fixes missing parent statement by copying solution from zoo solution branch on git. While working on xox first stuck because forgets to set rest launcher in pom.xml.\",OK,12/12,NR,0,FAIL,FAIL,FAIL,FAIL,FAIL,FAIL,FAIL,FAIL,PASS,PASS,PASS,PASS,PASS,PASS,PASS,PASS,PASS,PASS,PASS,PASS\n",
      "Red-Raccoon,red,raccoon,3,3,3,1,4,4,1,1,0,bookstore,xox,touchcore,manual,959,3256,1251,2161,False,True,All good.,\"Does not finish task. Gives up after a total time of about 80 minutes. Is ok, spend requested minimum amount of time on solving. Lost a lot of time by jumping back and forth between instructions and solving. Does not finish instructions before starting and then gets lost in the process. Tries to solve task with eclipse although all instructions are written for IntelliJ and IntelliJ is likewise the recommended IDE. Does not seem to know about code auto formatting because they spend a lot of time manually indenting code. Confuses GetMapping with a a getter for all mappings and keeps typing GetMappings for a significant time. Does not finish video or read instructions, stops video every 5 seconds to replicate steps on zoo sample app. After one hour notices that this was not the task and finally starts working on xox.\",OK,10/12,NR,0,FAIL,FAIL,FAIL,FAIL,FAIL,FAIL,FAIL,FAIL,PASS,PASS,PASS,PASS,PASS,PASS,PASS,PASS,PASS,PASS,FAIL,FAIL\n",
      "Red-Zebra,red,zebra,3,1,2,1,4,2,3,3,0,bookstore,xox,touchcore,manual,1591,2046,1536,1167,True,True,\"Replicates full zoo after having watched TC screencast. First struggles with maven commands, launching of jar. First stuck in split view. Tries to model ResTL while in splitview. While connecting lines, the amount of lines covering resource endpoints that are still to map is indeed an issue. Restified bookstore seems to print exceptions to console, although tested behaviour by participant is correct.\",First attempts to start xox with green launcher triangles that are not linked to maven. (Displayed by intelliJ next to main method) Edits pom.xml with a lot of confidence. Probably knows what they are doing.,OK,12/12,OK,6/8,PASS,FAIL,PASS,PASS,PASS,PASS,PASS,FAIL,PASS,PASS,PASS,PASS,PASS,PASS,PASS,PASS,PASS,PASS,PASS,PASS\n",
      "Red-Fox,red,fox,3,2,3,1,4,2,5,4,0,bookstore,xox,touchcore,manual,2615,2745,3682,2488,True,False,Struggles with setting of JVM version for touchcore before starting task. Should have been checked in preliminaries. Replicates full zoo example with touchcore before starting own task. Video stops before any resource verified. Types wrong root url and then gives up.,Does not finish screencast or zoo replications before starting to work on xox task. Interleaved. Aggressively jumps back and forth for mini parts of task. Watches only some seconds then replicates them. Forgets plugins tag for a long time and ignores IDE warnings. Creates a textual version of ResTL in text editor before translating it to annotations for methods. Uses camel case notation for resources and needs several tries to test them.,OK,9/12,OK,1/8,FAIL,FAIL,FAIL,FAIL,PASS,FAIL,FAIL,FAIL,PASS,PASS,PASS,PASS,PASS,FAIL,FAIL,PASS,FAIL,PASS,PASS,PASS\n",
      "Red-Unicorn,red,unicorn,4,4,2,3,4,5,1,3,0,bookstore,xox,touchcore,manual,1058,2188,2568,2088,True,True,\"Struggles a bit with creation of subresources. Keeps trying to drag starting on top level resource, no below, for about 2 minutes. No other issues.\",Googles some details of spring boot annotation URL syntax while watching screencast. Otherwise very linear.,OK,12/12,OK,6/8,PASS,PASS,PASS,PASS,PASS,PASS,FAIL,FAIL,PASS,PASS,PASS,PASS,PASS,PASS,PASS,PASS,PASS,PASS,PASS,PASS\n",
      "Red-Turtle,red,turtle,2,4,3,4,4,5,5,2,0,bookstore,xox,touchcore,manual,911,1296,2794,2502,True,True,\"At first stuck in splitview because they try to create the ResTL model from the splitview, but the split view in default state only allows mappings. Afterwards pretty straightforward. Uses API doc to identify desired bookstore target method.\",\"Does not watch complete screencast first. Jumps back to textual instructions after 2 minutes, then proceeds in interleaved mode where short parts of screencast are watched, followed by working on own Xox task. Seems to have problems with spring bean container, watches the corresponding part of video 3-4 times. During task solving also struggles a lot with bean container and autowired. Launch first fails becaus they forgot to update the launcher class in pom.xml\",OK,12/12,OK,7/8,PASS,PASS,PASS,PASS,PASS,PASS,PASS,FAIL,PASS,PASS,PASS,PASS,PASS,PASS,PASS,PASS,PASS,PASS,PASS,PASS\n",
      "Red-Koala,red,koala,4,2,1,5,4,5,5,4,0,bookstore,xox,touchcore,manual,1153,1690,2311,1265,True,True,\"Tries out entire Zoo example live, while following TouchCORE instructions.\",Manually refactors Xox project while watching screencast. Afressive jumping back and forth between video instrucitons and manual own task solving in mini steps.,OK,12/12,OK,8/8,PASS,PASS,PASS,PASS,PASS,PASS,PASS,PASS,PASS,PASS,PASS,PASS,PASS,PASS,PASS,PASS,PASS,PASS,PASS,PASS\n",
      "Green-Squid,green,squid,3,2,2,3,3,3,2,1,1,bookstore,xox,manual,touchcore,462,3101,3260,7397,True,False,\"Starts TouchCORE before reading any instructions or watching screencast. Then opens screencast and skips first three minutes. Jumps frenetically back and forth, watches only snippets of some seconds, jumps randomly back and forth in video. Keeps dragginf on resource, does not read instructions or watch examples that tell how to extend resource tree by dragging below box. Modifies textual decription by noting text of target method in there rather than just draing the line between REST endpoint and method. At some point even opens code source in intelliJ to inspect Xox internals, although models and javadoc are provided. Parameters do not show correct names in model, unclear why. Possibly outdated build of xox.\",\"Jumps back and forth in mini steps of just some seconds between video instructinos and his own task. Very inefficient and does nit finish the task in over two hours 30 minutes. 3:30min pause in screencast at about 1h16 where not sure if walked awqay or just all of a sudden looking very concentrated at apused video. Cannot distinguish from information I have. Counting it as regular video watch time. Access on autowired field in constrcutor, benas cannot be constructed. Does not use PostConstruct annotation. Gives up.\",OK,8/8,NR,0,PASS,PASS,PASS,PASS,PASS,PASS,PASS,PASS,FAIL,FAIL,FAIL,FAIL,FAIL,FAIL,FAIL,FAIL,FAIL,FAIL,FAIL,FAIL\n",
      "Green-Raccoon,green,raccoon,2,2,1,1,2,5,5,4,1,bookstore,xox,manual,touchcore,406,2258,3290,5069,True,True,\"Tries to use TouchCORE without watching screencast and only after 20 minutes of trial and error goes back to start of instructions to watch screencast. Only watches some minutes of screencast and then tries to continue with task again before screencast finished. Gets stuck again. Tries to modify ResTL model in splitview meant only for mapping. Also tries to map path parameters of resources that do not contain the corresponding dynamic path parameter in resource path. Consults manually creates solution source code of first task for some minutes. Unclear why. Uses DOS commands on UNIX command line. Ends up jumping back and forth, never finishes video instructions.\",Forgets at first to update launcher class in pom. Forgets at first to refresh maven settings in IntelliJ. Solves both.,OK,7/8,OK,6/12,PASS,PASS,PASS,PASS,PASS,PASS,FAIL,PASS,PASS,PASS,FAIL,PASS,PASS,PASS,PASS,FAIL,FAIL,FAIL,FAIL,FAIL\n",
      "Green-Zebra,green,zebra,2,1,2,1,5,3,4,3,1,bookstore,xox,manual,touchcore,1384,2924,2357,8615,True,True,Tries parts of screencast while watching on zoo models. inspects Xox source code while mapping on parameters. Possibly because parameter names are not displayed in splitview.,Tries some maven for zoo while watching screencast. Opens Zoo in intelliJ while watching screencast but does not actually refactor it yet. Follows screencast to end until starting manual refactoring of bookstore.,OK,6/8,OK,12/12,PASS,FAIL,PASS,PASS,PASS,PASS,PASS,FAIL,PASS,PASS,PASS,PASS,PASS,PASS,PASS,PASS,PASS,PASS,PASS,PASS\n",
      "Green-Fox,green,fox,3,3,2,2,4,4,3,4,1,bookstore,xox,manual,touchcore,889,2154,1986,3653,True,False,Does not finish watching instructions. Starts TC to work on zoo before screencast is finished. TC crashes while modelling Rest Tree. Zaps through video instructions seemingly randomly. Later goes back to individual places when stuck.,Does not finish instructions / zoo tests before opening bookstore. Starts working on pom changes then goes back to video instructions. Jumps agressively back and forth between video illustrations and actual task. Submission can not reflect end state at video (not compiling),OK,7/8,NR,0,PASS,PASS,FAIL,PASS,PASS,PASS,PASS,PASS,FAIL,FAIL,FAIL,FAIL,FAIL,FAIL,FAIL,FAIL,FAIL,FAIL,FAIL,FAIL\n",
      "Green-Unicorn,green,unicorn,3,2,5,1,4,3,5,4,1,bookstore,xox,manual,touchcore,1145,1966,1955,7931,False,False,Opens TouchCORE only seconds after start of screencast and tries to imitate steps while watching video. Then gives up and jumps back and forth between imitation of zoo restification - which was not the task - and video instructions. Generates code but it is not runnablke because manual restified app is still running on same port.,\"Works on Zoo while watching video, then jumps to Bookstore and refactores is parallel to watching video. Hectic jumpick back and fiirth between task and instructions. Struggles with autowiring, never finishes video instructions and instead adds generic catch blocks to suppress in attempt to suppress spring bean creation exception.\",OK,8/8,NR,0,PASS,PASS,PASS,PASS,PASS,PASS,PASS,PASS,FAIL,FAIL,FAIL,FAIL,FAIL,FAIL,FAIL,FAIL,FAIL,FAIL,FAIL,FAIL\n",
      "Green-Turtle,green,turtle,3,3,3,4,4,4,3,3,1,bookstore,xox,manual,touchcore,892,2282,2332,4010,True,True,All good.,Opens all three code directories as bundles projects in intellij before having finished video instructions. Changes IDE settings that were meant for troubleshoot although no need.,OK,8/8,OK,10/12,PASS,PASS,PASS,PASS,PASS,PASS,PASS,PASS,PASS,PASS,PASS,PASS,PASS,FAIL,PASS,PASS,FAIL,PASS,PASS,PASS\n",
      "Green-Koala,green,koala,4,2,3,5,5,4,5,4,1,bookstore,xox,manual,touchcore,902,2066,647,2651,True,True,TC seems to crash after successful weaving and code generation. Probably not relevant.,Uses Eclipse despite instructions telling to use IntelliJ. Runs into bean creation error because construtor accesses autowired field. Solved it by calling critical method with postconstruct instead.,OK,8/8,OK,11/12,PASS,PASS,PASS,PASS,PASS,PASS,PASS,PASS,PASS,PASS,FAIL,PASS,PASS,PASS,PASS,PASS,PASS,PASS,PASS,PASS\n",
      "Blue-Squid,blue,squid,4,2,3,1,3,3,5,2,2,xox,bookstore,touchcore,manual,1002,1811,2892,4205,True,True,TC crash. Watched parts of instruction video again. Read xox javadoc to figure out ambigous mapping instructions later described as ambiguous,Struggles with IDE pom refresh. Hesitates when IDE does not recognize plugin versions. Struggles with PostConstruct,OK,7/8,OK,10/12,PASS,PASS,PASS,PASS,PASS,PASS,PASS,FAIL,PASS,PASS,PASS,PASS,PASS,PASS,FAIL,PASS,PASS,FAIL,PASS,PASS\n",
      "Blue-Raccoon,blue,raccoon,3,1,2,2,4,3,5,1,2,xox,bookstore,touchcore,manual,924,1698,2757,5227,True,True,All good.,Watches parts of video instructions again durig task solving. Stopped with autowire exception and noted: no time to figure it out on screen. Recommenced task later. Actually figured it out. Had issue with running app twice and port being blocked. Figured it out with netstat.,OK,8/8,OK,11/12,PASS,PASS,PASS,PASS,PASS,PASS,PASS,PASS,PASS,PASS,FAIL,PASS,PASS,PASS,PASS,PASS,PASS,PASS,PASS,PASS\n",
      "Blue-Zebra,blue,zebra,3,1,2,3,2,4,5,4,2,xox,bookstore,touchcore,manual,1043,1782,2276,3738,True,True,Imitates zoo instructions on zoo while watching screencast. Forgets to set launcher class in pom. Stuck at refresh of pom fil ein IDE. Does not read troubleshoot section. Only adds @restcontroller at end probably forgotten. Struggles with autowiring.Searches again on StackOverflow rather than reading instructions or troubleshoot section. Gives up after about 90 minutes without solving autowiring issue.,Solves tasks with IDE eclipse / ignores instructions for IntelliJ. Works on Zoo sample sources while watching video. Windows firewall first blocks access to developped rest backend popup. Access not explicitly allowed. Watches screecast at accelerated speed.,OK,8/8,OK,11/12,PASS,PASS,PASS,PASS,PASS,PASS,PASS,PASS,PASS,PASS,FAIL,PASS,PASS,PASS,PASS,PASS,PASS,PASS,PASS,PASS\n",
      "Blue-Fox,blue,fox,2,1,2,4,5,3,5,4,2,xox,bookstore,touchcore,manual,931,2167,3602,5835,True,True,Watches excerpts of screencast again rather than following textual instructions.,Forgets to refresh pom.xml. Copies any snippets of code of instructions anywhere trial and error. Ignores zoo restlauncher in pom xml for a long time. Does not remove tests for long time. Did not ever refresh pom xml in IDE,OK,8/8,OK,12/12,PASS,PASS,PASS,PASS,PASS,PASS,PASS,PASS,PASS,PASS,PASS,PASS,PASS,PASS,PASS,PASS,PASS,PASS,PASS,PASS\n",
      "Blue-Unicorn,blue,unicorn,4,3,3,2,4,4,5,2,2,xox,bookstore,touchcore,manual,917,2242,2096,3789,True,True,Starts with zoo. Only continues with xox after zoo is fully imitated. Xox task starts at 31:32 goes until end 52:39.,In contrast to assisted task directly proceeds to bookstore. Watches short excerpts of screencast again when stuck. Struggles at first with post processing.,OK,8/8,OK,9/12,PASS,PASS,PASS,PASS,PASS,PASS,PASS,PASS,PASS,PASS,FAIL,PASS,PASS,FAIL,FAIL,PASS,PASS,PASS,PASS,PASS\n",
      "Blue-Turtle,blue,turtle,4,3,4,4,5,4,5,4,2,xox,bookstore,touchcore,manual,755,637,1825,926,False,False,Did not follow instructions order. Interleaved screencast and task. Plays screencast partially in 2x speed. Ends up removing half of what was already modelled to start over. Uses split view in Vertical mode which is not shown in video. Maps root GET to getInstance method. Unable to naviagte in touchcore since screencast not watched. Opens and closes random menues.Model parameters do not carry names this could be an outdated version of xox unclear why. Hits trafo button with incplete mappings and when presetnted with error message adds random mappings.,\"Does not watch complete explanation screencast. Starts working on task while watching video. Not all RESTification tasks captured on video, stops after launcher creation.\",OK,3/8,OK,0/12,PASS,PASS,FAIL,FAIL,PASS,FAIL,FAIL,FAIL,FAIL,FAIL,FAIL,FAIL,FAIL,FAIL,FAIL,FAIL,FAIL,FAIL,FAIL,FAIL\n",
      "Blue-Koala,blue,koala,4,1,3,1,3,2,5,3,2,xox,bookstore,touchcore,manual,992,1925,3043,5445,True,True,TC crash. watched parts of screencast again during task,Forgot pom launcher config until almost end,OK,8/8,OK,2/12,PASS,PASS,PASS,PASS,PASS,PASS,PASS,PASS,FAIL,FAIL,FAIL,PASS,PASS,FAIL,FAIL,FAIL,FAIL,FAIL,FAIL,FAIL\n",
      "Yellow-Squid,yellow,squid,2,1,1,1,3,4,5,4,3,xox,bookstore,manual,touchcore,763,1157,3775,2293,True,True,Reads through textual task description while watching screencast.,Reads textual task description parallel to watching video. Skips through vast parts of video instructions. First forgets to update launcher class in pom.xml.,OK,12/12,OK,8/8,PASS,PASS,PASS,PASS,PASS,PASS,PASS,PASS,PASS,PASS,PASS,PASS,PASS,PASS,PASS,PASS,PASS,PASS,PASS,PASS\n",
      "Yellow-Raccoon,yellow,raccoon,4,1,2,3,5,3,2,3,3,xox,bookstore,manual,touchcore,956,3207,5084,1809,True,True,Replicates entire zoo screencast on own zoo before starting with own task.,\"Replicates Zoo illustrations while watching manual refactoring screencast. Counted towards ideinstructions time. Replicates even the troubleshoot steps although the project is from the start correctly set up. Seems at first to confuse annotation urls with package structure of legacy app. Notes uris that start with \"\"xoxinternals\"\". Application first fails to start because conflicting mappings are defined. Eventually finds the conflicting annotations and fixes the issue.\",OK,6/12,OK,1/8,FAIL,FAIL,FAIL,FAIL,PASS,FAIL,FAIL,FAIL,PASS,PASS,PASS,PASS,PASS,PASS,FAIL,FAIL,FAIL,FAIL,FAIL,FAIL\n",
      "Yellow-Zebra,yellow,zebra,3,1,2,4,4,4,4,1,3,xox,bookstore,manual,touchcore,420,4789,3707,3060,True,True,\"Attempts to refactor zoo with touchcore without watching screencast. Fails and retries. Enters splitview before having finished tree model. Tries to model tree while in splitview. Tries to map rest methods on parameters. Generates java code form model before tree or mapping finished. Tests modelled incomplete part with postman, then resumes modeling part. Attempts to manually indicate dynamic resources with self typed brackets rather then creating correct resource type. Accidentally deletes all mappings. Finally succeeds and tests everything with postman including put and post operations. \",\"Attempts to playback zoo task illustration at double speed. Seems to have clones all sources into a single project with visual studio code. Skips most part of the intellij instructions, e.g. pom file explanations. Towards end of preliminary video opens own intellij to inspect zoo code. Seems to be installing parts of preliminaries durung task familiarization e.g. git. REplicates full manual refactoring task on zoo before working on own task. Tests own zoo API with Postman. Postman prints sample curl snippets. Tries to test API with curl but does not have curl installed. Then starts an ubuntu VM to use curl. Tests zoo api thoroughly. Tests even put requests with body payload on zoo. Copies part of solution e.g. annotation stubs from zoo while working on manual refactoring task. Tests refactored outcome very intensely with postman. Tests while refactoring that means for every API enpoitn enabled first runs Postman tests before proceeding with refactoring.\",OK,12/12,OK,6/8,PASS,FAIL,FAIL,PASS,PASS,PASS,PASS,PASS,PASS,PASS,PASS,PASS,PASS,PASS,PASS,PASS,PASS,PASS,PASS,PASS\n",
      "Yellow-Fox,yellow,fox,4,4,3,1,4,2,5,4,3,xox,bookstore,manual,touchcore,731,1773,2080,1954,True,True,\"Skipps the last minute of instruction screencast where testing is demoed. First attempt if BookStore ResTL model incomplete, interleaves tree design and mapping phases. Uses the API documentation a lot to read about documentation before mapping functions. Generated code does at first not compile. Possibly because maven dependency to vanilla bookstore not correcty installed ot local m2 during preliminaries. First tries to fix compile error by changing java version from 16 to 11. Seems to work after first compiling to jar then launching jar rather than direct launch. Unsure what is the cause.\",All good. Tests very thoroughly.,OK,12/12,OK,8/8,PASS,PASS,PASS,PASS,PASS,PASS,PASS,PASS,PASS,PASS,PASS,PASS,PASS,PASS,PASS,PASS,PASS,PASS,PASS,PASS\n",
      "Yellow-Unicorn,yellow,unicorn,3,3,3,4,4,4,5,3,3,xox,bookstore,manual,touchcore,736,2123,3180,1794,True,True,Skips testing the service part of instruction video and jumps right to own task.,\"Does not finish video instructions in one session. Jumps back and forth between task description, textual task illustration and video. Solves task mainly based on textual instructions. Only revises the service testing part of video. \",OK,12/12,OK,5/8,PASS,FAIL,PASS,PASS,PASS,PASS,FAIL,FAIL,PASS,PASS,PASS,PASS,PASS,PASS,PASS,PASS,PASS,PASS,PASS,PASS\n",
      "Yellow-Turtle,yellow,turtle,4,2,3,5,4,4,5,3,3,xox,bookstore,manual,touchcore,716,1886,3429,2837,True,True,\"Plays video at start at 1.75 speed. No major complications while solving task with TouchCORE. Struggles at first to find entry URL while testing GET requests with browser. Uses also Postman to test PUT request. At first forgets to provide body but then copies json from existing book entry to create new book. Fails again due to ISBN collision, but they then modify request to use dummy isbn 1234 with success. Tests api thoroughly. \",\"Attempts to watch video at 1.5x speed. Replicates steps on zoo while watching video. Replicates maven troubleshoot steps although project is correctly imported. Inspects Zoo restify commit diffs while screencast watching. Tries to encode url parameters with equals sign withing resource name. Written annotation is wrong, does not accept gameid is part of URL but as request parameter. During tests provides gameid likewise as query parameter, ignoring id provided in URL resource locator. Seems like all parameters aver received in backend are using @requestparameter annotation. Unsure why participant codes it like this. Instructions never mention this kind of parameter or annotation. Then opens postman to test same get requests but keeps using request parameters.\",OK,12/12,OK,3/8,PASS,PASS,FAIL,FAIL,PASS,FAIL,FAIL,FAIL,PASS,PASS,PASS,PASS,PASS,PASS,PASS,PASS,PASS,PASS,PASS,PASS\n",
      "Yellow-Koala,yellow,koala,2,1,2,1,4,3,5,4,3,xox,bookstore,manual,touchcore,715,2058,2230,1760,True,True,Accidentally deletes parts of solution by crossing already completed mappings with an unintentional line. Hence loses parts of already finished solution and has to re-enter them. Very carefully reads through interface description after mapping finished.,\"Starts by reading API docs. Watches targeted parts of screencast agoin while manual task solving, but only once initial screencast is entirely watched. Thoroughly follows instructions.\",OK,12/12,OK,7/8,PASS,PASS,PASS,PASS,PASS,PASS,FAIL,PASS,PASS,PASS,PASS,PASS,PASS,PASS,PASS,PASS,PASS,PASS,PASS,PASS\n",
      "\n"
     ]
    }
   ],
   "source": [
    "\"\"\"\n",
    "This module updates the fused csv based on the current partial csv files found in\n",
    "\"source-csv-files\", persists the outcome to disk and displays the content.\n",
    "\"\"\"\n",
    "from csv_tools import csv_merger\n",
    "\n",
    "# Call the CSV merger, fuses all individual files based on participant group/codename as key.\n",
    "csv_merger.build_merged_csv()\n",
    "\n",
    "# Print the result\n",
    "restify_csv = open(\"generated-csv-files/restify.csv\", \"r\").read()\n",
    "print(restify_csv)\n"
   ]
  },
  {
   "cell_type": "markdown",
   "id": "35f4743e",
   "metadata": {
    "pycharm": {
     "name": "#%% md\n"
    }
   },
   "source": [
    "# Step 3 - Data Analysis\n",
    "\n",
    " * Overall population performance, all methodologies, all applications\n",
    "    * Overall population performance, manual tasks (percentage)\n",
    "    * Overall population performance, assisted tasks (percentage)\n",
    "\n",
    "Here comes a great and intuitive to read text that explains how the unit-test plot is produced and how to read the results.\n",
    "\n",
    "Key points:\n",
    "\n",
    "  * Black horizontal bars: all tests failed because the submission did not compile or was not executable.\n",
    "  * Black vertical bars: A test that failed for many participants.\n",
    "\n",
    "    TODO: plot needs more labels."
   ]
  },
  {
   "cell_type": "code",
   "execution_count": 5,
   "id": "5381701f",
   "metadata": {
    "pycharm": {
     "name": "#%%\n"
    }
   },
   "outputs": [
    {
     "data": {
      "image/png": "[encoded data removed]",
      "text/plain": [
       "<Figure size 1008x288 with 1 Axes>"
      ]
     },
     "metadata": {
      "needs_background": "light"
     },
     "output_type": "display_data"
    }
   ],
   "source": [
    "from csv_tools import file_load_utils\n",
    "from restify_mining.data_objects.assessed_participant import AssessedParticipant\n",
    "from restify_mining.unit_test_miners.all_participants_all_tests_miner import AllParticipantsAllTestsMiner\n",
    "from restify_mining.plotters.unit_test_plotter import mine_and_plot\n",
    "\n",
    "# Load all participant objects (specifies skills, codename, control-group) from csv file\n",
    "assessed_population: list[\n",
    "    AssessedParticipant] = file_load_utils.load_all_assessed_participants()\n",
    "\n",
    "# Create a 2D plot of all individual participant test results. On Y axis (vertical) all\n",
    "# participants, on X axis (horizontal) all unit tests. Created image shows a black square for\n",
    "# failed tests, coloured square (matching control group colour) for passed tests.\n",
    "with_colours: bool = True\n",
    "mine_and_plot(AllParticipantsAllTestsMiner(), with_colours, assessed_population)"
   ]
  },
  {
   "cell_type": "markdown",
   "id": "690f4147",
   "metadata": {
    "pycharm": {
     "name": "#%% md\n"
    }
   },
   "source": [
    "## Similar, a heatmap with the average test results per control group (TODO, split into applications)\n",
    "\n",
    "Here comes a great and intuitive to read text that explains how the heatmap plot is produced and how to read the results.\n"
   ]
  },
  {
   "cell_type": "code",
   "execution_count": 6,
   "id": "02e9820d",
   "metadata": {
    "pycharm": {
     "name": "#%%\n"
    }
   },
   "outputs": [
    {
     "data": {
      "image/png": "[encoded data removed]",
      "text/plain": [
       "<Figure size 1008x288 with 1 Axes>"
      ]
     },
     "metadata": {
      "needs_background": "light"
     },
     "output_type": "display_data"
    }
   ],
   "source": [
    "from csv_tools import file_load_utils\n",
    "from restify_mining.data_objects.assessed_participant import AssessedParticipant\n",
    "from restify_mining.plotters import unit_test_plotter\n",
    "\n",
    "# Load all participant objects (specifies skills, codename, control-group) from csv file\n",
    "assessed_population: list[\n",
    "    AssessedParticipant] = file_load_utils.load_all_assessed_participants()\n",
    "\n",
    "# Visualize test results in 2D plot and safe to disk\n",
    "unit_test_plotter.plot_all_average_group_results(assessed_population)"
   ]
  }
 ],
 "metadata": {
  "kernelspec": {
   "display_name": "Python 3 (ipykernel)",
   "language": "python",
   "name": "python3"
  },
  "language_info": {
   "codemirror_mode": {
    "name": "ipython",
    "version": 3
   },
   "file_extension": ".py",
   "mimetype": "text/x-python",
   "name": "python",
   "nbconvert_exporter": "python",
   "pygments_lexer": "ipython3",
   "version": "3.9.13"
  }
 },
 "nbformat": 4,
 "nbformat_minor": 5
}