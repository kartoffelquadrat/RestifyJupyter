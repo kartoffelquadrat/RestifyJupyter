{
 "cells": [
  {
   "cell_type": "markdown",
   "source": [
    "# RESTify Controlled Experiment Data Analysis\n",
    "\n",
    " > *Measuring the Software Engineering impact of a representative DSML toolchain.*\n",
    "\n",
    "This Jupyter Notebook illustrates the design and results obtained throughout the McGill RESTify Controlled Experiment.\n",
    "  * We summarize the experiment purpose and setup, then step by step take you through the interpretation of all data collected.\n",
    "      * For more information about the recruitment process, visit the [RESTify Experiment Recruitment Page](https://www.cs.mcgill.ca/~mschie3/recruitment/).\n",
    "  * Starting point for all analyses in this document is data automatically mined from study participant submissions.  The purpose of this document is the visualization and interpretation of statistical study data.\n",
    "    * This input data was extracted from the raw participant submissions in a preliminary step. The corresponding details [are described in this document](#Measuring-Submission-Quality).\n",
    "    * The section likewise contains references toward the tools needed for replication of the input data.\n",
    "\n",
    "## Introduction\n",
    "\n",
    "The RESTify controlled experiment involved 28 software developers, who each solved a state-of-the-art development task with two orthogonal methodologies. Namely, the interest of the experiment is to evaluate the effects of a DSML-centrist toolchain on specific software engineering qualities, by comparison to the established, legacy approach.\n",
    "The remainder of this document is structured as follows:\n",
    "\n",
    " * [We describe a common, state-of-the-art refactoring task](#Task-And-Methodology) and [define metrics that measure how well it was performed](#Metrics).\n",
    " * We then quantify and compare the quality of various task submissions, originating the outcome of several control groups. [The control groups were arranged](#Control-Groups) to pursue refactoring tasks using the DSML based toolchain and respectively manual code refactoring.\n",
    " * The main part is a statistical comparison of the measured submission qualities. This is the core contribution of this notebook, for it allows a transparent reproduction of our findings.\n",
    "     * The Notebook allows local execution of the jupyter code cells, and hence independent replication of our results.\n",
    "     * The referenced cell source code (hosted likewise in this directory) gives access to the raw data and implementations used, for convenient validation and reuse by the SE community.\n",
    " * The notebook concludes with an interpretation of the observed correlations.\n",
    "\n",
    "The interest of this notebook centers on a fast and transparent replication of our statistical findings and claims. It extends the PDF article of our findings by the possibility to replicate our computations and verify a sane implementation of our metrics. For a contribution that focuses on a causal interpretation of these observations, we refer to a pending conference submission.\n",
    "\n",
    "### Task and Methodologies\n",
    "\n",
    "The aforementioned refactoring task is the conversion of legacy code to a RESTful service. Given the omnipresence of legacy systems and the continuously rising relevance of RESTful service based architectures, e.g. Microservice Architectures, this conversion is a recurring, state-of-the-art task with imminent industrial relevance.\n",
    "\n",
    "#### Reference Context\n",
    "\n",
    "We captured the refactoring challenge with two legacy systems, representing the e-commerce and gaming contexts frequently associated to RESTful services. Those are vanilla Java applications which express the core functionality of [a BookStore](https://github.com/m5c/BookStoreInternals/releases/tag/RestifyStudy) and [a Tic Tac Toe](https://github.com/m5c/XoxInternals/releases/tag/RestifyStudy) game logic.\n",
    "\n",
    "In technical detail, the refactoring task was the conversion of the provided legacy sources to a RESTful service using the Spring Boot framework. Like most technical details of the experiment, Spring was selected because of its widespread industrial acceptance.\n",
    "\n",
    "#### Methodologies\n",
    "\n",
    "We considered two orthogonal methodologies for the refactoring task.\n",
    "\n",
    "  * The classic, code-oriented approach: A software developer manually modifies the project's legacy sources for them to comply to a requested target behaviour. That is to say a developer loads the legacy project in their Integrated Developer Environment (IDE), integrates Spring Boot and exposes existing functionality over REST endpoints using Spring's annotation syntax.\n",
    "  * The DSML-oriented approach: Legacy sources are examined by a modeling tool and their existing functionality is visualized. The developer then uses a tailored DSML to design the desired interface layout and graphically maps the produced REST endpoints to identified existing functionality. The modeling tool then generates the desired refactored source code.\n",
    "\n",
    " > The activity is performed in TouchCORE, an academic tool that provides a proof-of-concept implementation for the DSML-oriented approach. The details of how the DSML was integrated with the other languages TouchCORE are [described in an earlier publication](https://www.cs.mcgill.ca/~mschie3/contributions/FIDDLR.pdf).\n",
    "\n",
    "Manual code refactoring is the widespread standard methodology for performing this task. However, lab internal experiments suggested that a DSML oriented approach can significantly outperform this manual methodology.\n",
    "The RESTify controlled experiment was designed to gather the empirical data to test this hypothesis.\n",
    "\n",
    "### Metrics\n",
    "\n",
    "We considered two independent factors to measure the quality of the refactored solutions: *Speed* of task completion and *Correctness* of the outcome. These are fair metrics, as the success of industrial projects is likewise held to these standards.\n",
    "\n",
    "  * In the context of our study, we consider *Speed* a normalized derivative of the time to task submission. That is to say the fastest participant scored a value of ```1``` and the slowest participant obtained a value of ```0```. The remaining participants received proportional scores in the range ```[0-1]```.\n",
    "  * We define *Correctness* of a solution by means of compliance to a predefined interface and behaviour that observably reacts according to specification. Since the refactoring task mandates exposure of provided functionality through a defined REST interface, we can assess correctness [by automated, canonic tests of all individual interface endpoints](https://github.com/m5c/RestifyAnalyzer). The test passrate then provides a normalized notion for correctness, where ```1``` indicates full compliance to the expected interface, i.e. all tests pass. Solutions that do not pass any test receive a ```0```.\n",
    "\n",
    "Among other factors e.g. bound costs and high maintainability, software projects altogether aspire a maximization of *Speed* and *Correctness*. We therefore define the overall quality of a submission as weighted sum of these factors. We decided to weight them equally, as the real-world weighting may vary from project to project.\n",
    "\n",
    "The presented overall metric ranks solutions that were crafted quickly and that comply to the target interface close to ```1```, while the core for slow solutions showcasing significant discrepancy with the interface specification score tends toward ```0```.\n",
    "\n",
    "## Experiment Setup\n",
    "\n",
    "In this section we describe the efforts made to recruit a statistically sound population, including its partition into four representative groups. We hired a total of 28 software developers with various backgrounds, to mitigate the impact of outliers and cover the diverse spectrum of real-world software developer profiles.\n",
    "\n",
    "We start by a statistical analysis of the skill sets found in the set of participants and then describe the methodology applied to divide them into comparable groups.\n",
    "\n",
    " > Note that in reality we encountered ongoing participant fluctuation, therefore recruitment took place in  iterations. The statistics shown in this document represent the final set of participants.\n",
    "\n",
    "### Diversity\n",
    "\n",
    "Recruitment included an auto-assessment of task related skills.\n",
    "\n",
    "#### Self Assessment Form\n",
    "\n",
    "Participants were asked to mark their proficiency on [a disseminated evaluation form](https://www.cs.mcgill.ca/~mschie3/recruitment/self-assessment.txt). For each of the 8 skill dimensions, we provided a textual metric that helped participants objectively quantify their skills on a scale of one to five.\n",
    "\n",
    "Below example illustrates how we query proficiency for the singleton pattern:\n",
    "```\n",
    "How much do you know about the singleton pattern?\n",
    "[ ] I don't know what it is.\n",
    "[ ] I know what it is, but have never used it.\n",
    "[ ] I have already used it in one of my projects.\n",
    "[ ] I could verify a provided implementation.\n",
    "[ ] I could implement it right away from scratch.\n",
    "```\n",
    "\n",
    "Participants were then asked to mark the most advanced option applicable.\n",
    "\n",
    "#### Skill Analysis\n",
    "\n",
    "We processed all participant self-declared skills and computed the resulting distribution.\n",
    "The below cell replicates these computations and generates figures for the following statistics:\n",
    "\n",
    " * Sum of all declared skills, per participant (Mesh)\n",
    " * Proficiency in JAVA (Light Grey)\n",
    " * Proficiency with the Spring Framework (Mint)\n",
    " * Proficiency with the Build-System Maven (Light Blue)\n",
    " * Knowledge about the Modeling Tool TouchCORE (Deep Purple)\n",
    " * Proficiency with the UNIX/OS command line (Pink)\n",
    " * Knowledge about the REST networking paradigm (Red)\n",
    " * Knowledge about the Singleton pattern (Orange)\n",
    " * Knowledge about Reflection in programming languages (Dark Grey)\n",
    "\n",
    " > Note that the above colour scheme for individual skills is maintained for the remainder of this document."
   ],
   "metadata": {
    "collapsed": false,
    "pycharm": {
     "name": "#%% md\n"
    }
   }
  },
  {
   "cell_type": "code",
   "execution_count": 1,
   "outputs": [
    {
     "ename": "FileNotFoundError",
     "evalue": "[Errno 2] No such file or directory: 'generated-plots/01-participant-Summed Total (Max: 40 points)-bars.png'",
     "output_type": "error",
     "traceback": [
      "\u001B[0;31m---------------------------------------------------------------------------\u001B[0m",
      "\u001B[0;31mFileNotFoundError\u001B[0m                         Traceback (most recent call last)",
      "Input \u001B[0;32mIn [1]\u001B[0m, in \u001B[0;36m<cell line: 3>\u001B[0;34m()\u001B[0m\n\u001B[1;32m      1\u001B[0m \u001B[38;5;28;01mfrom\u001B[39;00m \u001B[38;5;21;01mjupyter_snippets\u001B[39;00m\u001B[38;5;21;01m.\u001B[39;00m\u001B[38;5;21;01mpseudo_cell_01_display_population_skill_stats\u001B[39;00m \u001B[38;5;28;01mimport\u001B[39;00m cell_01\n\u001B[0;32m----> 3\u001B[0m \u001B[43mcell_01\u001B[49m\u001B[43m(\u001B[49m\u001B[43m)\u001B[49m\n",
      "File \u001B[0;32m~/Code/RestifyJupyter/jupyter_snippets/pseudo_cell_01_display_population_skill_stats.py:24\u001B[0m, in \u001B[0;36mcell_01\u001B[0;34m()\u001B[0m\n\u001B[1;32m     18\u001B[0m population: \u001B[38;5;28mlist\u001B[39m[Participant] \u001B[38;5;241m=\u001B[39m file_load_utils\u001B[38;5;241m.\u001B[39mload_all_participants()\n\u001B[1;32m     20\u001B[0m \u001B[38;5;66;03m# Optional: Provide evidence that skill values are not normal-distributed.\u001B[39;00m\n\u001B[1;32m     21\u001B[0m \u001B[38;5;66;03m# compute_shapiro_will_skills_standarddev_pvalue(population)\u001B[39;00m\n\u001B[1;32m     22\u001B[0m \n\u001B[1;32m     23\u001B[0m \u001B[38;5;66;03m# Provide bar charts as evidence that out population is diverse\u001B[39;00m\n\u001B[0;32m---> 24\u001B[0m \u001B[43mplot_skill_bars\u001B[49m\u001B[43m(\u001B[49m\u001B[43mpopulation\u001B[49m\u001B[43m)\u001B[49m\n",
      "File \u001B[0;32m~/Code/RestifyJupyter/restify_mining/bar_plotters/skill_frequency_bars.py:26\u001B[0m, in \u001B[0;36mplot_skill_bars\u001B[0;34m(population)\u001B[0m\n\u001B[1;32m     24\u001B[0m total_participant_skills: \u001B[38;5;28mlist\u001B[39m[\u001B[38;5;28mint\u001B[39m] \u001B[38;5;241m=\u001B[39m extract_skill_sum_values(population)\n\u001B[1;32m     25\u001B[0m distribution: \u001B[38;5;28mdict\u001B[39m[\u001B[38;5;28mint\u001B[39m, \u001B[38;5;28mint\u001B[39m] \u001B[38;5;241m=\u001B[39m collections\u001B[38;5;241m.\u001B[39mCounter(total_participant_skills)\n\u001B[0;32m---> 26\u001B[0m \u001B[43mprint_bar_distribution\u001B[49m\u001B[43m(\u001B[49m\u001B[43mdistribution\u001B[49m\u001B[43m,\u001B[49m\u001B[43m \u001B[49m\u001B[38;5;124;43m\"\u001B[39;49m\u001B[38;5;124;43mSummed Total (Max: 40 points)\u001B[39;49m\u001B[38;5;124;43m\"\u001B[39;49m\u001B[43m,\u001B[49m\u001B[43m \u001B[49m\u001B[38;5;28;43mmin\u001B[39;49m\u001B[43m(\u001B[49m\u001B[43mtotal_participant_skills\u001B[49m\u001B[43m)\u001B[49m\u001B[43m,\u001B[49m\n\u001B[1;32m     27\u001B[0m \u001B[43m                       \u001B[49m\u001B[38;5;28;43mmax\u001B[39;49m\u001B[43m(\u001B[49m\u001B[43mtotal_participant_skills\u001B[49m\u001B[43m)\u001B[49m\u001B[43m,\u001B[49m\u001B[43m \u001B[49m\u001B[38;5;28;43mmax\u001B[39;49m\u001B[43m(\u001B[49m\u001B[43mdistribution\u001B[49m\u001B[38;5;241;43m.\u001B[39;49m\u001B[43mvalues\u001B[49m\u001B[43m(\u001B[49m\u001B[43m)\u001B[49m\u001B[43m)\u001B[49m\u001B[43m,\u001B[49m\u001B[43m \u001B[49m\u001B[38;5;124;43m\"\u001B[39;49m\u001B[38;5;124;43m#555555\u001B[39;49m\u001B[38;5;124;43m\"\u001B[39;49m\u001B[43m,\u001B[49m\n\u001B[1;32m     28\u001B[0m \u001B[43m                       \u001B[49m\u001B[38;5;28;43;01mTrue\u001B[39;49;00m\u001B[43m)\u001B[49m\n\u001B[1;32m     30\u001B[0m \u001B[38;5;66;03m# Generate distributions and then bar-charts for each and every skill distribution (full\u001B[39;00m\n\u001B[1;32m     31\u001B[0m \u001B[38;5;66;03m# population)\u001B[39;00m\n\u001B[1;32m     32\u001B[0m \u001B[38;5;66;03m# Must be in two steps, so we can keep plot dimensions.\u001B[39;00m\n\u001B[1;32m     33\u001B[0m all_skill_distributions: \u001B[38;5;28mlist\u001B[39m[\u001B[38;5;28mdict\u001B[39m[\u001B[38;5;28mint\u001B[39m, \u001B[38;5;28mint\u001B[39m]] \u001B[38;5;241m=\u001B[39m []\n",
      "File \u001B[0;32m~/Code/RestifyJupyter/restify_mining/bar_plotters/skill_frequency_bars.py:73\u001B[0m, in \u001B[0;36mprint_bar_distribution\u001B[0;34m(distribution, tag, lower_bound_x, upper_bound_x, upper_bound_y, tint, ruffled)\u001B[0m\n\u001B[1;32m     71\u001B[0m plt\u001B[38;5;241m.\u001B[39mylim(\u001B[38;5;241m0\u001B[39m, upper_bound_y \u001B[38;5;241m+\u001B[39m \u001B[38;5;241m0.5\u001B[39m)\n\u001B[1;32m     72\u001B[0m plt\u001B[38;5;241m.\u001B[39mylabel(\u001B[38;5;124m\"\u001B[39m\u001B[38;5;124mParticipant Amount\u001B[39m\u001B[38;5;124m\"\u001B[39m)\n\u001B[0;32m---> 73\u001B[0m \u001B[43mplt\u001B[49m\u001B[38;5;241;43m.\u001B[39;49m\u001B[43msavefig\u001B[49m\u001B[43m(\u001B[49m\u001B[38;5;124;43m\"\u001B[39;49m\u001B[38;5;124;43mgenerated-plots/01-participant-\u001B[39;49m\u001B[38;5;124;43m\"\u001B[39;49m\u001B[43m \u001B[49m\u001B[38;5;241;43m+\u001B[39;49m\u001B[43m \u001B[49m\u001B[43mtag\u001B[49m\u001B[43m \u001B[49m\u001B[38;5;241;43m+\u001B[39;49m\u001B[43m \u001B[49m\u001B[38;5;124;43m\"\u001B[39;49m\u001B[38;5;124;43m-bars.png\u001B[39;49m\u001B[38;5;124;43m\"\u001B[39;49m\u001B[43m)\u001B[49m\n\u001B[1;32m     74\u001B[0m plt\u001B[38;5;241m.\u001B[39mshow()\n",
      "File \u001B[0;32m/usr/local/lib/python3.9/site-packages/matplotlib/pyplot.py:954\u001B[0m, in \u001B[0;36msavefig\u001B[0;34m(*args, **kwargs)\u001B[0m\n\u001B[1;32m    951\u001B[0m \u001B[38;5;129m@_copy_docstring_and_deprecators\u001B[39m(Figure\u001B[38;5;241m.\u001B[39msavefig)\n\u001B[1;32m    952\u001B[0m \u001B[38;5;28;01mdef\u001B[39;00m \u001B[38;5;21msavefig\u001B[39m(\u001B[38;5;241m*\u001B[39margs, \u001B[38;5;241m*\u001B[39m\u001B[38;5;241m*\u001B[39mkwargs):\n\u001B[1;32m    953\u001B[0m     fig \u001B[38;5;241m=\u001B[39m gcf()\n\u001B[0;32m--> 954\u001B[0m     res \u001B[38;5;241m=\u001B[39m \u001B[43mfig\u001B[49m\u001B[38;5;241;43m.\u001B[39;49m\u001B[43msavefig\u001B[49m\u001B[43m(\u001B[49m\u001B[38;5;241;43m*\u001B[39;49m\u001B[43margs\u001B[49m\u001B[43m,\u001B[49m\u001B[43m \u001B[49m\u001B[38;5;241;43m*\u001B[39;49m\u001B[38;5;241;43m*\u001B[39;49m\u001B[43mkwargs\u001B[49m\u001B[43m)\u001B[49m\n\u001B[1;32m    955\u001B[0m     fig\u001B[38;5;241m.\u001B[39mcanvas\u001B[38;5;241m.\u001B[39mdraw_idle()  \u001B[38;5;66;03m# Need this if 'transparent=True', to reset colors.\u001B[39;00m\n\u001B[1;32m    956\u001B[0m     \u001B[38;5;28;01mreturn\u001B[39;00m res\n",
      "File \u001B[0;32m/usr/local/lib/python3.9/site-packages/matplotlib/figure.py:3274\u001B[0m, in \u001B[0;36mFigure.savefig\u001B[0;34m(self, fname, transparent, **kwargs)\u001B[0m\n\u001B[1;32m   3270\u001B[0m     \u001B[38;5;28;01mfor\u001B[39;00m ax \u001B[38;5;129;01min\u001B[39;00m \u001B[38;5;28mself\u001B[39m\u001B[38;5;241m.\u001B[39maxes:\n\u001B[1;32m   3271\u001B[0m         stack\u001B[38;5;241m.\u001B[39menter_context(\n\u001B[1;32m   3272\u001B[0m             ax\u001B[38;5;241m.\u001B[39mpatch\u001B[38;5;241m.\u001B[39m_cm_set(facecolor\u001B[38;5;241m=\u001B[39m\u001B[38;5;124m'\u001B[39m\u001B[38;5;124mnone\u001B[39m\u001B[38;5;124m'\u001B[39m, edgecolor\u001B[38;5;241m=\u001B[39m\u001B[38;5;124m'\u001B[39m\u001B[38;5;124mnone\u001B[39m\u001B[38;5;124m'\u001B[39m))\n\u001B[0;32m-> 3274\u001B[0m \u001B[38;5;28;43mself\u001B[39;49m\u001B[38;5;241;43m.\u001B[39;49m\u001B[43mcanvas\u001B[49m\u001B[38;5;241;43m.\u001B[39;49m\u001B[43mprint_figure\u001B[49m\u001B[43m(\u001B[49m\u001B[43mfname\u001B[49m\u001B[43m,\u001B[49m\u001B[43m \u001B[49m\u001B[38;5;241;43m*\u001B[39;49m\u001B[38;5;241;43m*\u001B[39;49m\u001B[43mkwargs\u001B[49m\u001B[43m)\u001B[49m\n",
      "File \u001B[0;32m/usr/local/lib/python3.9/site-packages/matplotlib/backend_bases.py:2338\u001B[0m, in \u001B[0;36mFigureCanvasBase.print_figure\u001B[0;34m(self, filename, dpi, facecolor, edgecolor, orientation, format, bbox_inches, pad_inches, bbox_extra_artists, backend, **kwargs)\u001B[0m\n\u001B[1;32m   2334\u001B[0m \u001B[38;5;28;01mtry\u001B[39;00m:\n\u001B[1;32m   2335\u001B[0m     \u001B[38;5;66;03m# _get_renderer may change the figure dpi (as vector formats\u001B[39;00m\n\u001B[1;32m   2336\u001B[0m     \u001B[38;5;66;03m# force the figure dpi to 72), so we need to set it again here.\u001B[39;00m\n\u001B[1;32m   2337\u001B[0m     \u001B[38;5;28;01mwith\u001B[39;00m cbook\u001B[38;5;241m.\u001B[39m_setattr_cm(\u001B[38;5;28mself\u001B[39m\u001B[38;5;241m.\u001B[39mfigure, dpi\u001B[38;5;241m=\u001B[39mdpi):\n\u001B[0;32m-> 2338\u001B[0m         result \u001B[38;5;241m=\u001B[39m \u001B[43mprint_method\u001B[49m\u001B[43m(\u001B[49m\n\u001B[1;32m   2339\u001B[0m \u001B[43m            \u001B[49m\u001B[43mfilename\u001B[49m\u001B[43m,\u001B[49m\n\u001B[1;32m   2340\u001B[0m \u001B[43m            \u001B[49m\u001B[43mfacecolor\u001B[49m\u001B[38;5;241;43m=\u001B[39;49m\u001B[43mfacecolor\u001B[49m\u001B[43m,\u001B[49m\n\u001B[1;32m   2341\u001B[0m \u001B[43m            \u001B[49m\u001B[43medgecolor\u001B[49m\u001B[38;5;241;43m=\u001B[39;49m\u001B[43medgecolor\u001B[49m\u001B[43m,\u001B[49m\n\u001B[1;32m   2342\u001B[0m \u001B[43m            \u001B[49m\u001B[43morientation\u001B[49m\u001B[38;5;241;43m=\u001B[39;49m\u001B[43morientation\u001B[49m\u001B[43m,\u001B[49m\n\u001B[1;32m   2343\u001B[0m \u001B[43m            \u001B[49m\u001B[43mbbox_inches_restore\u001B[49m\u001B[38;5;241;43m=\u001B[39;49m\u001B[43m_bbox_inches_restore\u001B[49m\u001B[43m,\u001B[49m\n\u001B[1;32m   2344\u001B[0m \u001B[43m            \u001B[49m\u001B[38;5;241;43m*\u001B[39;49m\u001B[38;5;241;43m*\u001B[39;49m\u001B[43mkwargs\u001B[49m\u001B[43m)\u001B[49m\n\u001B[1;32m   2345\u001B[0m \u001B[38;5;28;01mfinally\u001B[39;00m:\n\u001B[1;32m   2346\u001B[0m     \u001B[38;5;28;01mif\u001B[39;00m bbox_inches \u001B[38;5;129;01mand\u001B[39;00m restore_bbox:\n",
      "File \u001B[0;32m/usr/local/lib/python3.9/site-packages/matplotlib/backend_bases.py:2204\u001B[0m, in \u001B[0;36mFigureCanvasBase._switch_canvas_and_return_print_method.<locals>.<lambda>\u001B[0;34m(*args, **kwargs)\u001B[0m\n\u001B[1;32m   2200\u001B[0m     optional_kws \u001B[38;5;241m=\u001B[39m {  \u001B[38;5;66;03m# Passed by print_figure for other renderers.\u001B[39;00m\n\u001B[1;32m   2201\u001B[0m         \u001B[38;5;124m\"\u001B[39m\u001B[38;5;124mdpi\u001B[39m\u001B[38;5;124m\"\u001B[39m, \u001B[38;5;124m\"\u001B[39m\u001B[38;5;124mfacecolor\u001B[39m\u001B[38;5;124m\"\u001B[39m, \u001B[38;5;124m\"\u001B[39m\u001B[38;5;124medgecolor\u001B[39m\u001B[38;5;124m\"\u001B[39m, \u001B[38;5;124m\"\u001B[39m\u001B[38;5;124morientation\u001B[39m\u001B[38;5;124m\"\u001B[39m,\n\u001B[1;32m   2202\u001B[0m         \u001B[38;5;124m\"\u001B[39m\u001B[38;5;124mbbox_inches_restore\u001B[39m\u001B[38;5;124m\"\u001B[39m}\n\u001B[1;32m   2203\u001B[0m     skip \u001B[38;5;241m=\u001B[39m optional_kws \u001B[38;5;241m-\u001B[39m {\u001B[38;5;241m*\u001B[39minspect\u001B[38;5;241m.\u001B[39msignature(meth)\u001B[38;5;241m.\u001B[39mparameters}\n\u001B[0;32m-> 2204\u001B[0m     print_method \u001B[38;5;241m=\u001B[39m functools\u001B[38;5;241m.\u001B[39mwraps(meth)(\u001B[38;5;28;01mlambda\u001B[39;00m \u001B[38;5;241m*\u001B[39margs, \u001B[38;5;241m*\u001B[39m\u001B[38;5;241m*\u001B[39mkwargs: \u001B[43mmeth\u001B[49m\u001B[43m(\u001B[49m\n\u001B[1;32m   2205\u001B[0m \u001B[43m        \u001B[49m\u001B[38;5;241;43m*\u001B[39;49m\u001B[43margs\u001B[49m\u001B[43m,\u001B[49m\u001B[43m \u001B[49m\u001B[38;5;241;43m*\u001B[39;49m\u001B[38;5;241;43m*\u001B[39;49m\u001B[43m{\u001B[49m\u001B[43mk\u001B[49m\u001B[43m:\u001B[49m\u001B[43m \u001B[49m\u001B[43mv\u001B[49m\u001B[43m \u001B[49m\u001B[38;5;28;43;01mfor\u001B[39;49;00m\u001B[43m \u001B[49m\u001B[43mk\u001B[49m\u001B[43m,\u001B[49m\u001B[43m \u001B[49m\u001B[43mv\u001B[49m\u001B[43m \u001B[49m\u001B[38;5;129;43;01min\u001B[39;49;00m\u001B[43m \u001B[49m\u001B[43mkwargs\u001B[49m\u001B[38;5;241;43m.\u001B[39;49m\u001B[43mitems\u001B[49m\u001B[43m(\u001B[49m\u001B[43m)\u001B[49m\u001B[43m \u001B[49m\u001B[38;5;28;43;01mif\u001B[39;49;00m\u001B[43m \u001B[49m\u001B[43mk\u001B[49m\u001B[43m \u001B[49m\u001B[38;5;129;43;01mnot\u001B[39;49;00m\u001B[43m \u001B[49m\u001B[38;5;129;43;01min\u001B[39;49;00m\u001B[43m \u001B[49m\u001B[43mskip\u001B[49m\u001B[43m}\u001B[49m\u001B[43m)\u001B[49m)\n\u001B[1;32m   2206\u001B[0m \u001B[38;5;28;01melse\u001B[39;00m:  \u001B[38;5;66;03m# Let third-parties do as they see fit.\u001B[39;00m\n\u001B[1;32m   2207\u001B[0m     print_method \u001B[38;5;241m=\u001B[39m meth\n",
      "File \u001B[0;32m/usr/local/lib/python3.9/site-packages/matplotlib/_api/deprecation.py:410\u001B[0m, in \u001B[0;36mdelete_parameter.<locals>.wrapper\u001B[0;34m(*inner_args, **inner_kwargs)\u001B[0m\n\u001B[1;32m    400\u001B[0m     deprecation_addendum \u001B[38;5;241m=\u001B[39m (\n\u001B[1;32m    401\u001B[0m         \u001B[38;5;124mf\u001B[39m\u001B[38;5;124m\"\u001B[39m\u001B[38;5;124mIf any parameter follows \u001B[39m\u001B[38;5;132;01m{\u001B[39;00mname\u001B[38;5;132;01m!r}\u001B[39;00m\u001B[38;5;124m, they should be passed as \u001B[39m\u001B[38;5;124m\"\u001B[39m\n\u001B[1;32m    402\u001B[0m         \u001B[38;5;124mf\u001B[39m\u001B[38;5;124m\"\u001B[39m\u001B[38;5;124mkeyword, not positionally.\u001B[39m\u001B[38;5;124m\"\u001B[39m)\n\u001B[1;32m    403\u001B[0m     warn_deprecated(\n\u001B[1;32m    404\u001B[0m         since,\n\u001B[1;32m    405\u001B[0m         name\u001B[38;5;241m=\u001B[39m\u001B[38;5;28mrepr\u001B[39m(name),\n\u001B[0;32m   (...)\u001B[0m\n\u001B[1;32m    408\u001B[0m                  \u001B[38;5;28;01melse\u001B[39;00m deprecation_addendum,\n\u001B[1;32m    409\u001B[0m         \u001B[38;5;241m*\u001B[39m\u001B[38;5;241m*\u001B[39mkwargs)\n\u001B[0;32m--> 410\u001B[0m \u001B[38;5;28;01mreturn\u001B[39;00m \u001B[43mfunc\u001B[49m\u001B[43m(\u001B[49m\u001B[38;5;241;43m*\u001B[39;49m\u001B[43minner_args\u001B[49m\u001B[43m,\u001B[49m\u001B[43m \u001B[49m\u001B[38;5;241;43m*\u001B[39;49m\u001B[38;5;241;43m*\u001B[39;49m\u001B[43minner_kwargs\u001B[49m\u001B[43m)\u001B[49m\n",
      "File \u001B[0;32m/usr/local/lib/python3.9/site-packages/matplotlib/backends/backend_agg.py:517\u001B[0m, in \u001B[0;36mFigureCanvasAgg.print_png\u001B[0;34m(self, filename_or_obj, metadata, pil_kwargs, *args)\u001B[0m\n\u001B[1;32m    468\u001B[0m \u001B[38;5;129m@_api\u001B[39m\u001B[38;5;241m.\u001B[39mdelete_parameter(\u001B[38;5;124m\"\u001B[39m\u001B[38;5;124m3.5\u001B[39m\u001B[38;5;124m\"\u001B[39m, \u001B[38;5;124m\"\u001B[39m\u001B[38;5;124margs\u001B[39m\u001B[38;5;124m\"\u001B[39m)\n\u001B[1;32m    469\u001B[0m \u001B[38;5;28;01mdef\u001B[39;00m \u001B[38;5;21mprint_png\u001B[39m(\u001B[38;5;28mself\u001B[39m, filename_or_obj, \u001B[38;5;241m*\u001B[39margs,\n\u001B[1;32m    470\u001B[0m               metadata\u001B[38;5;241m=\u001B[39m\u001B[38;5;28;01mNone\u001B[39;00m, pil_kwargs\u001B[38;5;241m=\u001B[39m\u001B[38;5;28;01mNone\u001B[39;00m):\n\u001B[1;32m    471\u001B[0m     \u001B[38;5;124;03m\"\"\"\u001B[39;00m\n\u001B[1;32m    472\u001B[0m \u001B[38;5;124;03m    Write the figure to a PNG file.\u001B[39;00m\n\u001B[1;32m    473\u001B[0m \n\u001B[0;32m   (...)\u001B[0m\n\u001B[1;32m    515\u001B[0m \u001B[38;5;124;03m        *metadata*, including the default 'Software' key.\u001B[39;00m\n\u001B[1;32m    516\u001B[0m \u001B[38;5;124;03m    \"\"\"\u001B[39;00m\n\u001B[0;32m--> 517\u001B[0m     \u001B[38;5;28;43mself\u001B[39;49m\u001B[38;5;241;43m.\u001B[39;49m\u001B[43m_print_pil\u001B[49m\u001B[43m(\u001B[49m\u001B[43mfilename_or_obj\u001B[49m\u001B[43m,\u001B[49m\u001B[43m \u001B[49m\u001B[38;5;124;43m\"\u001B[39;49m\u001B[38;5;124;43mpng\u001B[39;49m\u001B[38;5;124;43m\"\u001B[39;49m\u001B[43m,\u001B[49m\u001B[43m \u001B[49m\u001B[43mpil_kwargs\u001B[49m\u001B[43m,\u001B[49m\u001B[43m \u001B[49m\u001B[43mmetadata\u001B[49m\u001B[43m)\u001B[49m\n",
      "File \u001B[0;32m/usr/local/lib/python3.9/site-packages/matplotlib/backends/backend_agg.py:464\u001B[0m, in \u001B[0;36mFigureCanvasAgg._print_pil\u001B[0;34m(self, filename_or_obj, fmt, pil_kwargs, metadata)\u001B[0m\n\u001B[1;32m    459\u001B[0m \u001B[38;5;124;03m\"\"\"\u001B[39;00m\n\u001B[1;32m    460\u001B[0m \u001B[38;5;124;03mDraw the canvas, then save it using `.image.imsave` (to which\u001B[39;00m\n\u001B[1;32m    461\u001B[0m \u001B[38;5;124;03m*pil_kwargs* and *metadata* are forwarded).\u001B[39;00m\n\u001B[1;32m    462\u001B[0m \u001B[38;5;124;03m\"\"\"\u001B[39;00m\n\u001B[1;32m    463\u001B[0m FigureCanvasAgg\u001B[38;5;241m.\u001B[39mdraw(\u001B[38;5;28mself\u001B[39m)\n\u001B[0;32m--> 464\u001B[0m \u001B[43mmpl\u001B[49m\u001B[38;5;241;43m.\u001B[39;49m\u001B[43mimage\u001B[49m\u001B[38;5;241;43m.\u001B[39;49m\u001B[43mimsave\u001B[49m\u001B[43m(\u001B[49m\n\u001B[1;32m    465\u001B[0m \u001B[43m    \u001B[49m\u001B[43mfilename_or_obj\u001B[49m\u001B[43m,\u001B[49m\u001B[43m \u001B[49m\u001B[38;5;28;43mself\u001B[39;49m\u001B[38;5;241;43m.\u001B[39;49m\u001B[43mbuffer_rgba\u001B[49m\u001B[43m(\u001B[49m\u001B[43m)\u001B[49m\u001B[43m,\u001B[49m\u001B[43m \u001B[49m\u001B[38;5;28;43mformat\u001B[39;49m\u001B[38;5;241;43m=\u001B[39;49m\u001B[43mfmt\u001B[49m\u001B[43m,\u001B[49m\u001B[43m \u001B[49m\u001B[43morigin\u001B[49m\u001B[38;5;241;43m=\u001B[39;49m\u001B[38;5;124;43m\"\u001B[39;49m\u001B[38;5;124;43mupper\u001B[39;49m\u001B[38;5;124;43m\"\u001B[39;49m\u001B[43m,\u001B[49m\n\u001B[1;32m    466\u001B[0m \u001B[43m    \u001B[49m\u001B[43mdpi\u001B[49m\u001B[38;5;241;43m=\u001B[39;49m\u001B[38;5;28;43mself\u001B[39;49m\u001B[38;5;241;43m.\u001B[39;49m\u001B[43mfigure\u001B[49m\u001B[38;5;241;43m.\u001B[39;49m\u001B[43mdpi\u001B[49m\u001B[43m,\u001B[49m\u001B[43m \u001B[49m\u001B[43mmetadata\u001B[49m\u001B[38;5;241;43m=\u001B[39;49m\u001B[43mmetadata\u001B[49m\u001B[43m,\u001B[49m\u001B[43m \u001B[49m\u001B[43mpil_kwargs\u001B[49m\u001B[38;5;241;43m=\u001B[39;49m\u001B[43mpil_kwargs\u001B[49m\u001B[43m)\u001B[49m\n",
      "File \u001B[0;32m/usr/local/lib/python3.9/site-packages/matplotlib/image.py:1664\u001B[0m, in \u001B[0;36mimsave\u001B[0;34m(fname, arr, vmin, vmax, cmap, format, origin, dpi, metadata, pil_kwargs)\u001B[0m\n\u001B[1;32m   1662\u001B[0m pil_kwargs\u001B[38;5;241m.\u001B[39msetdefault(\u001B[38;5;124m\"\u001B[39m\u001B[38;5;124mformat\u001B[39m\u001B[38;5;124m\"\u001B[39m, \u001B[38;5;28mformat\u001B[39m)\n\u001B[1;32m   1663\u001B[0m pil_kwargs\u001B[38;5;241m.\u001B[39msetdefault(\u001B[38;5;124m\"\u001B[39m\u001B[38;5;124mdpi\u001B[39m\u001B[38;5;124m\"\u001B[39m, (dpi, dpi))\n\u001B[0;32m-> 1664\u001B[0m \u001B[43mimage\u001B[49m\u001B[38;5;241;43m.\u001B[39;49m\u001B[43msave\u001B[49m\u001B[43m(\u001B[49m\u001B[43mfname\u001B[49m\u001B[43m,\u001B[49m\u001B[43m \u001B[49m\u001B[38;5;241;43m*\u001B[39;49m\u001B[38;5;241;43m*\u001B[39;49m\u001B[43mpil_kwargs\u001B[49m\u001B[43m)\u001B[49m\n",
      "File \u001B[0;32m~/Library/Python/3.9/lib/python/site-packages/PIL/Image.py:2317\u001B[0m, in \u001B[0;36mImage.save\u001B[0;34m(self, fp, format, **params)\u001B[0m\n\u001B[1;32m   2315\u001B[0m         fp \u001B[38;5;241m=\u001B[39m builtins\u001B[38;5;241m.\u001B[39mopen(filename, \u001B[38;5;124m\"\u001B[39m\u001B[38;5;124mr+b\u001B[39m\u001B[38;5;124m\"\u001B[39m)\n\u001B[1;32m   2316\u001B[0m     \u001B[38;5;28;01melse\u001B[39;00m:\n\u001B[0;32m-> 2317\u001B[0m         fp \u001B[38;5;241m=\u001B[39m \u001B[43mbuiltins\u001B[49m\u001B[38;5;241;43m.\u001B[39;49m\u001B[43mopen\u001B[49m\u001B[43m(\u001B[49m\u001B[43mfilename\u001B[49m\u001B[43m,\u001B[49m\u001B[43m \u001B[49m\u001B[38;5;124;43m\"\u001B[39;49m\u001B[38;5;124;43mw+b\u001B[39;49m\u001B[38;5;124;43m\"\u001B[39;49m\u001B[43m)\u001B[49m\n\u001B[1;32m   2319\u001B[0m \u001B[38;5;28;01mtry\u001B[39;00m:\n\u001B[1;32m   2320\u001B[0m     save_handler(\u001B[38;5;28mself\u001B[39m, fp, filename)\n",
      "\u001B[0;31mFileNotFoundError\u001B[0m: [Errno 2] No such file or directory: 'generated-plots/01-participant-Summed Total (Max: 40 points)-bars.png'"
     ]
    },
    {
     "data": {
      "text/plain": "<Figure size 432x288 with 1 Axes>",
      "image/png": "[encoded data removed]"
     },
     "metadata": {
      "needs_background": "light"
     },
     "output_type": "display_data"
    }
   ],
   "source": [
    "from jupyter_snippets.pseudo_cell_01_display_population_skill_stats import cell_01\n",
    "\n",
    "cell_01()"
   ],
   "metadata": {
    "collapsed": false,
    "pycharm": {
     "name": "#%%\n"
    }
   }
  },
  {
   "cell_type": "markdown",
   "source": [
    "#### Interpretation\n",
    "\n",
    "We acknowledge the extracted distributions vary by skill. Yet we also observe a strong diversity in the population, which we deem a positive factor toward the expriment's robustness.\n",
    "We also recognize that the profiles remain a self-declared assessment, and by nature is prone to subjective biases due to false estimations of the own skills.\n",
    "In case of the participant who scored best, we also suspect at least one upfront dishonest declaration, where the associated participant performed extremely poor. We believe the participant had no interest in actual task solving and targeted uniquely the 100 Canadian Dollar gift card issued to participants as compensation. The participant is marked as outlier wherever applicable.\n",
    "\n",
    "### Control groups\n",
    "\n",
    "The purpose of the experiment was a comparison of the two aforementioned methodologies, regarding task solving effects. However, to ensure fairness, we could not simply ask each participant to first refactor using *Methodology A*, followed by refactoring the same application with *Methodology B*, as there are multiple potential learning affects to consider:\n",
    "\n",
    "  * Learning effect from the application context: The first and the second task should not concern the same codebase. We eliminated this effect by alternating between two representative refactoring contexts of comparable complexity:\n",
    "    * The BookStore, a vanilla e-commerce application representing assortment, comments and stock information for a book vendor.\n",
    "    * Xox, a vanilla board game application representing an action oriented implementation of Tic Tac Toe.\n",
    "  * Potentially unfair advantage due to the application or methodology order:\n",
    "    * Half the population should begin with *Application 1*, the other half should start with *Application 2*.\n",
    "    * Half the population should begin with *Methodology A*, while the remainder should begin with *Methodology B*\n",
    "\n",
    "We decided to divide the population into four control groups (*Red*, *Green*, *Blue* and *Yellow)* with different task methodology and context order. This setup showcases several advantages:\n",
    "\n",
    "  * Statistical observations on the full population automatically level out any potential advantages from a specific order, as we hold the equal participant amount for either variant.\n",
    "  * We can assess the effects of a specific task order, methodology or contextual combination, by comparison of the corresponding control group to the remaining population.\n",
    "\n",
    "The below figure illustrates the effective task orders for the individual control groups:\n",
    "<div>\n",
    "<img src=\"static-figures/salad.png\" width=\"360\"/>\n",
    "</div>\n",
    "\n",
    "TODO: change methodology enumeration to roman letters in figure.\n",
    "\n",
    "The red square labelled \"1\" indicates the task details for the first refactoring task of the red control group. In this case it lies in the first quadrant, meaning participants were asked to refactor *Application 1 / E-Commerce* (the BookStore), using *Methodology A / MDE* (The DSML approach with TouchCORE). Similar the red square labelled \"2\" indicates a task where *Application 2 / Boar Game* (Tic Tac Toe) must be refactored using *Methodology B* (IDE on the example of IntelliJ).\n",
    "\n",
    " > Whatever the control group, all task sequences lie on a main diagonals. Furthermore, every group has a symmetric counterpart to offset learning effects in statistics for the full population.\n",
    "\n",
    "#### Finding a fair partition\n",
    "\n",
    "Although the above partition into complementary control groups offsets learning effects, experiment fairness also depends on a fair group repartition. That is to say the individual control groups must be comparable in terms of their skill profiles.\n",
    "For instance, we want to avoid any situation where all participants which high technical proficiency end up in one control group and while complementary participants with profound experience are gathered in another.\n",
    "\n",
    "We deem the total population size of 28 insufficient to purely rely on stochastic balancing effects. We therefore implemented an algorithm to search for an optimized participant repartition.\n",
    "While the population is still too large to test all potential combinations for viability, we were able to implement [a MiniMax heuristic, that is to say an algorithm that iteratively works toward a viable repartition by minimizing what hinders comparability](https://en.wikipedia.org/wiki/Minimax). Namely, we searched to minimize the maximum distance in average skill proficiency between two control groups. The fully documented sources of our partition algorithm are [publicly available](https://github.com/m5c/RecruitmentFormInterpreter).\n",
    "Tho software also allows brute force testing force placement of replacement participants, which was unfortunately necessary, as recruited participants repeatedly retracted from the study, or ceased any form of communicated, even after a fraction of the results was already collected. We decided for recruitment iterations, searching optimal replacement allocations of multiple participants, to mitigate the effects of changing skill profiles between original participant and replacement.\n",
    "\n",
    "The below boxplot shows the effective comparability of the final stable population. Every skill is represented by a series of four coloured boxplots, where each plot represents one control group. Ideally we would see the exact boxplot for each control group, that is to say equal mean (represented by a square) and equal distribution (represented by the whiskers).\n",
    "\n"
   ],
   "metadata": {
    "collapsed": false,
    "pycharm": {
     "name": "#%% md\n"
    }
   }
  },
  {
   "cell_type": "code",
   "execution_count": null,
   "outputs": [],
   "source": [
    "from jupyter_snippets.pseudo_cell_02_display_cgroups_skill_boxplot import cell_02\n",
    "\n",
    "cell_02()"
   ],
   "metadata": {
    "collapsed": false,
    "pycharm": {
     "name": "#%%\n"
    }
   }
  },
  {
   "cell_type": "markdown",
   "source": [
    "We acknowledge that the above repartition is fair, yet not optimal. That is to say there would have been partitions that perform better under the metric applied. To some extent this results from the heuristic implemented, which iteratively optimizes the MiniMax, without testing all possible partitions. However, a greater factor is the replacement of unreliable participants by replacements with distinct profiles.\n",
    "\n",
    "Below computation quantifies overall \"*threat*\" to control group comparability, under the applied metric. The listing shows the average minimum and maximum skill value for any pair of control groups and any skill. The MiniMax heuristic attempted to keep the greatest offset, between any such two values as low as possible."
   ],
   "metadata": {
    "collapsed": false,
    "pycharm": {
     "name": "#%% md\n"
    }
   }
  },
  {
   "cell_type": "code",
   "execution_count": null,
   "outputs": [],
   "source": [
    "from jupyter_snippets.pseudo_cell_04_compute_cgroup_skill_diffs import cell_04\n",
    "from jupyter_snippets.pseudo_cell_03_merge_csvs import cell_03\n",
    "\n",
    "cell_03()\n",
    "cell_04()"
   ],
   "metadata": {
    "collapsed": false,
    "pycharm": {
     "name": "#%%\n"
    }
   }
  },
  {
   "cell_type": "markdown",
   "source": [
    "The greatest offset observed stems from a maximum average skill of ```5.0``` for the singleton pattern (the second and highest orange box in boxplot), compared to an average value of ```3.6``` (the lowest orange box in boxplot). This offset defines the largest difference in terms of average skill offset between two control groups, resulting in an offset of ```1.4``` points on a scale of 1-5.\n",
    "\n",
    "Although not optimal, we conclude from the above computation that the obtained repartition showcases a sufficient similarity in skill diversity and distribution to allow for a meaningful analysis of the experiment outcome.\n",
    "\n",
    "# Measuring Submission Quality\n",
    "\n",
    "The weighted sum of normalized refactoring time and submission correctness requires raw data on time to task completion, and normalized test pass rates for every participant. In the next section we describe how we obtained this data, and assess to which extent it is replicable.\n",
    "\n",
    "## Measuring Time\n",
    "\n",
    "We recorded the entire task-relevant activity on screen. Summing up the footage of all participants, we collected a total of 72 hours of video material.\n",
    "We carefully viewed all recordings to measure the effective time spent on task familiarization and completion. The distinction was made as follows: For each task, we asked participants to watch a instruction video. This video illustrates the task methodology on exemplary, non task related application: [The zoo](https://github.com/m5c/Zoo). For every participant, we quantified the time in seconds spent on this task familiarization. We noticed that the measured time would greatly vary, because some participants replicated all demonstrated steps, using the test application, before proceeding to their actual task.\n",
    "Additionally, the video footage revealed several factors that impact the measurements:\n",
    "\n",
    "  * Participants used varying playback speed to consume the video instructions.\n",
    "  * Participants watched the material non-linear, i.e. replaying a specific passage several times or fast forwarding through parts they deem redundant.\n",
    "  * Participants did not always respect the requested order, that is to say there were cases where a participant would interleave video instructions and own task solving.\n",
    "\n",
    "We manually extracted time markers, which indicate transitions between the above phases and then used [a custom converter tool](https://github.com/m5c/TimeDiffCalc) to produce the overall time per phase in seconds.\n",
    "This was especially useful for participants who interleaved instructions and task solving. The listing below shows the ongoing analysis for a participant (*Green Squid*), who frequently alternated between the phases in a matter of minutes and sometimes seconds.\n",
    "\n",
    "```\n",
    "Start: 00:01:25 End: 00:02:27 Offset: 00 Diff: 62 [00:01:02]\n",
    "Start: 00:02:57 End: 00:04:55 Offset: 62 Diff: 180 [00:03:00]\n",
    "Start: 00:05:22 End: 00:07:10 Offset: 180 Diff: 288 [00:04:48]\n",
    "Start: 00:08:15 End: 00:08:52 Offset: 288 Diff: 325 [00:05:25]\n",
    "...\n",
    "...\n",
    "...\n",
    "Start: 02:40:13 End: 02:40:32 Offset: 3025 Diff: 3044 [00:50:44]\n",
    "Start: 02:46:18 End: 02:47:15 Offset: 3044 Diff: 3101 [00:51:41]\n",
    "```\n",
    "\n",
    "We likewise extracted the effective time in seconds for task solving, by cumulating the markers for task-related on screen activity.\n",
    "The outcome of the described activity are four values per participant, each indicating a duration in seconds:\n",
    "\n",
    "  * Time spent on preparation of manual task.\n",
    "  * Time spent on solving manual task solving.\n",
    "  * Time spent on preparation of model assisted task.\n",
    "  * Time spent on solving model assisted task.\n",
    "\n",
    "We will interpret the findings throughout the remainder of this notebook. The raw values are available as CSV file in the [source csv files](source-csv-files/time.csv) directory.\n",
    "\n",
    "### Reproducibility\n",
    "\n",
    "We cannot release the original on-screen recordings, as it would break participant anonymity. While participants were instructed to conceal all personal information, the collected video material showcases personal identifiers in abundance, e.g. user profiles on websites, OS menubar and open email inboxes. This effectively means the extracted markers and resulting durations are not replicable to anyone outside the study.\n",
    "\n",
    "For transparency, we do however provide a detailed transcript of on-screen activity, as part of the [duration CSV file](source-csv-files/time.csv). The noted observations are coherent to the observed durations. Where applicable we will cite from the transcript, to reason about analysis outliers.\n",
    "\n",
    "## Measuring Submission Correctness\n",
    "\n",
    "We measured correctness of the submitted solutions by testing against the provided interface specification. More precisely, we compiled and deployed every produced RESTful service and compared the HTTP responses to our test probes to the expected return.\n",
    "Given the amount of submissions and API endpoints to test, we [implemented a custom test tool](https://github.com/m5c/RestifyAnalyzer), to reliably assess the total of 560 endpoints. Yet the choice was not uniquely made based on the workload.\n",
    "\n",
    "We also implemented our own testing tool, to better encounter a paradox requirement associated to the applications' stateful nature:\n",
    "1) Tests must not be dependent, since otherwise a failed test can produce false-negatives for subsequent tests. E.g. if we fail to create a game instance in the Tic Tac Toe backend, necessarily all subsequent calls that interact with the instance must fail, even if their submitted implementation is correct.\n",
    "2) Tests cannot be independent, since the effectiveness of any state-altering operation needs verification by a subsequent lookup call.\n",
    "\n",
    "We were able to mitigate the above conflict with the following measures:\n",
    "\n",
    " * The test applications are seeded with deterministic state, which fully resets on deployment. This detail of the original implementation allows a programmatic state reset, between any two test probes sent. The overhead is significant, as a full redeploy takes several seconds. Yet we consider this the safest way to eliminate any false-negatives of category 1.\n",
    "  * All tests for write operations are effectuated twice: Once with subsequent read verification, and once without. Comparison of the outcome delimits the scope of the error, in case of a test failure to few instances, where we ultimately inspected the implementation details manually.\n",
    "\n",
    "### Reproducibility\n",
    "\n",
    "The testing results are fully reproducible. We inspected and deprived the participant submissions of all identifiers and [prepared a source code bundle for public download](https://www.cs.mcgill.ca/~mschie3/restify/submissions).\n",
    "We likewise provide the testing tool, alongside with detailed run instructions as [open source project on GitHub](https://github.com/m5c/RestifyAnalyzer).\n",
    "Anyone can clone the test tool and re-assess the provided submissions to obtain the [same test report CSV](source-csv-files/tests.csv).\n",
    "\n",
    "## Step 2 - Fusing the data (Redundant?\n",
    "\n",
    "TODO: Convert mention of fused CSV to note.\n",
    "\n",
    "Throughout the experiment we measured different metrics per participant. Those are stored in separate CSV files. Some of them were auto-generated by additional scripts, some were created by hand.\n",
    "In a first step we are going to fuse all individual CSV files, using the *participant codename* as key. The codename consists of a colour and an animal.\n",
    "\n",
    " > We used a total of 4 control groups, *Red*, *Green*, *Blue*, *Yellow*, each starring 7 participants. This setup was chosen to reduce learning effects.\n",
    "\n",
    " The outcome of below cell is a new file: ```restify.csv```.\n",
    " This file lists all data we ever process in the following, indexed by *participant codename*."
   ],
   "metadata": {
    "collapsed": false,
    "pycharm": {
     "name": "#%% md\n"
    }
   }
  },
  {
   "cell_type": "code",
   "execution_count": null,
   "outputs": [],
   "source": [
    "# TODO: print generated CSV content\n",
    "\n",
    "print(\"TODO: print actual CSV content here.\")"
   ],
   "metadata": {
    "collapsed": false,
    "pycharm": {
     "name": "#%%\n"
    }
   }
  },
  {
   "cell_type": "markdown",
   "source": [
    "# Data Analysis\n",
    "\n",
    " * Overall population performance, all methodologies, all applications\n",
    "    * Overall population performance, manual tasks (percentage)\n",
    "    * Overall population performance, assisted tasks (percentage)\n",
    "\n",
    "Here comes a great and intuitive to read text that explains how the unit-test plot is produced and how to read the results.\n",
    "\n",
    "Key points:\n",
    "\n",
    "  * Black horizontal bars: all tests failed because the submission did not compile or was not executable.\n",
    "  * Black vertical bars: A test that failed for many participants.\n",
    "\n",
    "    TODO: plot needs more labels."
   ],
   "metadata": {
    "collapsed": false,
    "pycharm": {
     "name": "#%% md\n"
    }
   }
  },
  {
   "cell_type": "code",
   "execution_count": null,
   "outputs": [],
   "source": [
    "from jupyter_snippets.pseudo_cell_05_all_results_all_participants import cell_05\n",
    "\n",
    "cell_05()"
   ],
   "metadata": {
    "collapsed": false,
    "pycharm": {
     "name": "#%%\n"
    }
   }
  },
  {
   "cell_type": "markdown",
   "source": [
    "## Similar, a heatmap with the average test results per control group (TODO, split into applications)\n",
    "\n",
    "Here comes a great and intuitive to read text that explains how the heatmap plot is produced and how to read the results.\n"
   ],
   "metadata": {
    "collapsed": false,
    "pycharm": {
     "name": "#%% md\n"
    }
   }
  },
  {
   "cell_type": "code",
   "execution_count": null,
   "outputs": [],
   "source": [
    "from jupyter_snippets.pseudo_cell_07_all_tests_all_groups import cell_07\n",
    "\n",
    "cell_07()"
   ],
   "metadata": {
    "collapsed": false,
    "pycharm": {
     "name": "#%%\n"
    }
   }
  }
 ],
 "metadata": {
  "kernelspec": {
   "display_name": "Python 3 (ipykernel)",
   "language": "python",
   "name": "python3"
  },
  "language_info": {
   "codemirror_mode": {
    "name": "ipython",
    "version": 3
   },
   "file_extension": ".py",
   "mimetype": "text/x-python",
   "name": "python",
   "nbconvert_exporter": "python",
   "pygments_lexer": "ipython3",
   "version": "3.9.13"
  }
 },
 "nbformat": 4,
 "nbformat_minor": 5
}