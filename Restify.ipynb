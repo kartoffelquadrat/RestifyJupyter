{
 "cells": [
  {
   "cell_type": "markdown",
   "id": "976d78cb",
   "metadata": {
    "pycharm": {
     "name": "#%% md\n"
    }
   },
   "source": [
    "# RESTify Controled Experiment Data Analysis\n",
    "\n",
    "Mining data gathered during the [RESTify Experiment](https://www.cs.mcgill.ca/~mschie3/recruitment/) for correlations and insights.\n",
    "\n",
    "## Step 1 - Representative population and fair group partition\n",
    "\n",
    "Even before we begin extracting any insights from collected observations, we demonstrate that out test population was representative. Likewise we demonstrate how the generated partition forms comparable control groups.\n",
    "\n",
    "### Test population\n",
    "\n",
    "We recruited 28 software engineers from various backgrounds and diverse preliminary skills regarding the experiment tasks. In a preliminary recruitment procedure participants were [asked to provide a self evaluation of their skills](https://www.cs.mcgill.ca/~mschie3/recruitment/self-assessment.txt), where 1 signifies no and 5 signifies expert knowledge.  \n",
    "\n",
    "#### Diversity\n",
    "\n",
    "We started with a preliminary analysis of the competence diversity, reflected by out test population. We therefore computed the gaussian distribution for every skill, across the entire population.  \n",
    "The outcome is depicted below:  \n"
   ]
  },
  {
   "cell_type": "code",
   "execution_count": 1,
   "id": "a2b729ed",
   "metadata": {
    "pycharm": {
     "name": "#%%\n"
    }
   },
   "outputs": [
    {
     "ename": "ModuleNotFoundError",
     "evalue": "No module named 'numpy'",
     "output_type": "error",
     "traceback": [
      "\u001B[0;31m---------------------------------------------------------------------------\u001B[0m",
      "\u001B[0;31mModuleNotFoundError\u001B[0m                       Traceback (most recent call last)",
      "Cell \u001B[0;32mIn [1], line 9\u001B[0m\n\u001B[1;32m      1\u001B[0m \u001B[38;5;66;03m# display_population_gaussian.py\u001B[39;00m\n\u001B[1;32m      2\u001B[0m \u001B[38;5;124;03m\"\"\"\u001B[39;00m\n\u001B[1;32m      3\u001B[0m \u001B[38;5;124;03mThis module reads participant skills from the participantskills.csv file, computes the gaussian\u001B[39;00m\n\u001B[1;32m      4\u001B[0m \u001B[38;5;124;03mdistributions per skill and creates a plot. The output file is stored in:\u001B[39;00m\n\u001B[1;32m      5\u001B[0m \u001B[38;5;124;03m\"generated-plots/gaussian.png\"\u001B[39;00m\n\u001B[1;32m      6\u001B[0m \u001B[38;5;124;03mAuthor: Maximilian Schiedermeier\u001B[39;00m\n\u001B[1;32m      7\u001B[0m \u001B[38;5;124;03m\"\"\"\u001B[39;00m\n\u001B[0;32m----> 9\u001B[0m \u001B[38;5;28;01mfrom\u001B[39;00m \u001B[38;5;21;01mrestify_mining\u001B[39;00m\u001B[38;5;21;01m.\u001B[39;00m\u001B[38;5;21;01mdata_objects\u001B[39;00m \u001B[38;5;28;01mimport\u001B[39;00m participant_stat_tools\n\u001B[1;32m     10\u001B[0m \u001B[38;5;28;01mfrom\u001B[39;00m \u001B[38;5;21;01mrestify_mining\u001B[39;00m\u001B[38;5;21;01m.\u001B[39;00m\u001B[38;5;21;01mmarkers\u001B[39;00m \u001B[38;5;28;01mimport\u001B[39;00m skills_markers\n\u001B[1;32m     11\u001B[0m \u001B[38;5;28;01mfrom\u001B[39;00m \u001B[38;5;21;01mrestify_mining\u001B[39;00m\u001B[38;5;21;01m.\u001B[39;00m\u001B[38;5;21;01mdata_objects\u001B[39;00m\u001B[38;5;21;01m.\u001B[39;00m\u001B[38;5;21;01mparticipant\u001B[39;00m \u001B[38;5;28;01mimport\u001B[39;00m Participant\n",
      "File \u001B[0;32m~/work/restify_mining/data_objects/participant_stat_tools.py:3\u001B[0m\n\u001B[1;32m      1\u001B[0m \u001B[38;5;124;03m\"\"\"Module for everything related to participant statistics.\"\"\"\u001B[39;00m\n\u001B[0;32m----> 3\u001B[0m \u001B[38;5;28;01mimport\u001B[39;00m \u001B[38;5;21;01mnumpy\u001B[39;00m \u001B[38;5;28;01mas\u001B[39;00m \u001B[38;5;21;01mnp\u001B[39;00m\n\u001B[1;32m      5\u001B[0m \u001B[38;5;28;01mfrom\u001B[39;00m \u001B[38;5;21;01mrestify_mining\u001B[39;00m\u001B[38;5;21;01m.\u001B[39;00m\u001B[38;5;21;01mdata_objects\u001B[39;00m\u001B[38;5;21;01m.\u001B[39;00m\u001B[38;5;21;01mparticipant\u001B[39;00m \u001B[38;5;28;01mimport\u001B[39;00m Participant\n\u001B[1;32m      6\u001B[0m \u001B[38;5;28;01mfrom\u001B[39;00m \u001B[38;5;21;01mrestify_mining\u001B[39;00m\u001B[38;5;21;01m.\u001B[39;00m\u001B[38;5;21;01mdata_objects\u001B[39;00m\u001B[38;5;21;01m.\u001B[39;00m\u001B[38;5;21;01mparticipant_filter_tools\u001B[39;00m \u001B[38;5;28;01mimport\u001B[39;00m extract_group_names, \\\n\u001B[1;32m      7\u001B[0m     filter_population_by_group\n",
      "\u001B[0;31mModuleNotFoundError\u001B[0m: No module named 'numpy'"
     ]
    }
   ],
   "source": [
    "# display_population_gaussian.py\n",
    "\"\"\"\n",
    "This module reads participant skills from the participantskills.csv file, computes the gaussian\n",
    "distributions per skill and creates a plot. The output file is stored in:\n",
    "\"generated-plots/gaussian.png\"\n",
    "Author: Maximilian Schiedermeier\n",
    "\"\"\"\n",
    "\n",
    "from restify_mining.data_objects import participant_stat_tools\n",
    "from restify_mining.markers import skills_markers\n",
    "from restify_mining.data_objects.participant import Participant\n",
    "from restify_mining.plotters.skill_plotter import plot_gaussian\n",
    "from csv_tools import file_load_utils\n",
    "\n",
    "# Load all participant objects (specifies skills, codename, control-group) from csv file\n",
    "population: list[Participant] = file_load_utils.load_all_participants()\n",
    "\n",
    "# Compute a gaussian distribution (defined by mean and standard dev) for every skill and produce\n",
    "# plot\n",
    "mean_scores = participant_stat_tools.build_mean_skills(population)\n",
    "stddev_scores = participant_stat_tools.build_standard_deviation_skills(population)\n",
    "\n",
    "# Plot gaussian curves for all participant skills\n",
    "for index in range(len(skills_markers.skill_tags)):\n",
    "    plot_gaussian(mean_scores[index], stddev_scores[index], skills_markers.palette[index])\n",
    "\n"
   ]
  },
  {
   "cell_type": "markdown",
   "id": "f3b83b57",
   "metadata": {
    "pycharm": {
     "name": "#%% md\n"
    }
   },
   "source": [
    "The above densities can be considered sufficiently diverse for the purpose of our study. Although the population showcases varying average skill scores, the population likewise showcases a substantial score diversity for every skill observed. Yet we are acknowledge that the above data stems from subjective self-evaluations and is not necessarily a ground truth indicator for the population's actual skill diversity.\n",
    "\n",
    "### Control groups\n",
    "\n",
    "Goal of the experiment is the comparison of refactoring methodologies. To eliminate learning effects we asked participants to apply the two methodologies on different applications. Eliminating potential bias by task and application order resulted in a participant repartition into four control groups.\n",
    "\n",
    "#### Heuristic Search for MiniMax\n",
    "We ran a heuristic balancing algorithm to obtain control groups with high comparability in regards to their average score per skill. The algorithm searched for the participant distribution with lowest difference in skill differences per pair of team. Specifically, on every iteration we used the highest score difference on the same skill for any pair of control groups as quality metric. The original partitions were highly comparable: For every tested partition, we computed the highest difference for skill scores between any pair of teams. Goal was to minimize the value as far as possible, resulting in control groups that are highly comparable in any skill. We called this goal the search for the *MiniMax*. The value obtained through our heuristic for the originally recruited population was as low as ```0.6```, that means no matter what skill and pair of groups compared, the average difference in skill was guaranteed to be equal or lower to ```0.6```.\n",
    "\n",
    "#### Droppers\n",
    "Unfortunately participants dropped out, even after having committed to a task. At this point we were able to hire replacements, however it was impossible to re-generate a fully optimized new control group repartition. At this point we had already received the first test results and since due to learning effects the study can not be run twice by the same participant, we had to reduce optimizations to a brute force testing of all permutations of dropped out participants and potential replacements. This adjustment had to be repeated three times, since participants kept dropping out, even after deadline extensions and reassured intent of participation.  \n",
    "Yet finally we were able to conclude the study with a population of 28 participants. Although comparability is not as optimal as in the original distribution, we were lucky enough to have ended up with somewhat comparable control groups.\n",
    "\n",
    "The full boxplot of skill distributions per control group and resulting MiniMax (grid, printed in bold) is generated below:"
   ]
  },
  {
   "cell_type": "code",
   "execution_count": null,
   "id": "4e8bf8ce",
   "metadata": {
    "pycharm": {
     "name": "#%%\n"
    }
   },
   "outputs": [],
   "source": [
    "# display_control_group_skill_boxplot.py\n",
    "\"\"\"\n",
    "This module reads participant skills from the participantskills.csv file, computes then a boxplot\n",
    "distribution representation per skill and group and fuses all resulting representation into a png\n",
    "file. The output file is stored in:\n",
    "\"generated-plots/boxplot.png\"\n",
    "Author: Maximilian Schiedermeier\n",
    "\"\"\"\n",
    "\n",
    "from restify_mining.data_objects import participant_filter_tools\n",
    "from restify_mining.data_objects.participant import Participant\n",
    "from restify_mining.markers.skills_markers import skill_tags, palette\n",
    "from restify_mining.plotters.skill_plotter import plot_box\n",
    "from csv_tools import file_load_utils\n",
    "\n",
    "# Load all participant objects (specifies skills, codename, control-group) from csv file\n",
    "population: list[Participant] = file_load_utils.load_all_participants()\n",
    "\n",
    "# Creating the boxplot comes down to ordering all raw skill values of all participants into the\n",
    "# order required by the plotter. The statistical markers are then extracted automatically.\n",
    "# Namely, the required order is: all values for skill 1 of participants of group 1, all values\n",
    "# for skill 1 of participants of group 2, ... all values for skill 2 of participants of group 1,\n",
    "# and so on...\n",
    "plotter_skill_values = []\n",
    "control_groups: list[str] = participant_filter_tools.extract_group_names(population)\n",
    "\n",
    "# To fill the plotter_skill_value list, first iterate over all skills in outer loop\n",
    "for skill_index in range(len(skill_tags)):\n",
    "\n",
    "    # Next: per skill iterate over all participants ordered by control group in inner loop\n",
    "    for control_group in control_groups:\n",
    "        control_group_population = participant_filter_tools.filter_population_by_group(population, control_group)\n",
    "\n",
    "        # Append the value every participant of the current control group has for the current skill\n",
    "        plotter_skill_values.append(\n",
    "            participant_filter_tools.get_skill_values_by_index(control_group_population,\n",
    "                                                               skill_index))\n",
    "\n",
    "# Finally feed the long list of all skill values in the order, required by the box plotter\n",
    "plot_box(plotter_skill_values, palette, len(control_groups), \"generated-plots/fused-stats.png\")"
   ]
  },
  {
   "cell_type": "code",
   "execution_count": null,
   "id": "63721840",
   "metadata": {
    "pycharm": {
     "name": "#%%\n"
    }
   },
   "outputs": [],
   "source": [
    "# compute_group_skill_diffs\n",
    "\n",
    "\"\"\"\n",
    "This module computes and prints the maximum skill difference between any pair of control groups,\n",
    "for all skill. Highlights the greatest (worst competence comparability) of these values as metric\n",
    "for the given control group distribution. A preliminary goal in search for a meaningful partition\n",
    "was the minimization of this value (Search for MiniMax). The current value is worse is not the best\n",
    "possible solution, since the population evolved over time (enrolled participants dropping out and\n",
    "being replaced).\n",
    "Author: Maximilian Schiedermeier\n",
    "\"\"\"\n",
    "\n",
    "from restify_mining.data_objects.participant import Participant\n",
    "from restify_mining.data_objects import participant_filter_tools as pft\n",
    "from restify_mining.markers.skills_markers import full_skill_tags, skill_tags, get_formated_skill_tag\n",
    "from csv_tools import file_load_utils\n",
    "\n",
    "# Print disclaimer\n",
    "print(\n",
    "    \"Control group comparability analysis. Listing of greatest differences (average skill values) \"\n",
    "    \"between any pairs of control groups:\")\n",
    "\n",
    "# Load all participant objects (specifies skills, codename, control group) from csv file\n",
    "population: list[Participant] = file_load_utils.load_all_participants()\n",
    "\n",
    "# Prepare variables to remember worst average difference and corresponding index\n",
    "worst_min_max_diff: float = 0.0\n",
    "worst_min_max_diff_index: int = 0\n",
    "\n",
    "# Iterate over skills and for each compute the average score difference for any pair of control\n",
    "# groups. Print the highest (worst) value found.\n",
    "control_groups: list[str] = pft.extract_group_names(population)\n",
    "for skill_index, skill in enumerate(skill_tags):\n",
    "\n",
    "    # Compute average skill value for each control group\n",
    "    average_skill_values = []\n",
    "    for control_group in control_groups:\n",
    "        control_group_population = pft.filter_population_by_group(population, control_group)\n",
    "        average_skill_values.append(\n",
    "            pft.get_average_skill_value_by_index(control_group_population, skill_index))\n",
    "\n",
    "    # Print line with lowers, highest and max diff values for given skill:\n",
    "    avg_min: float = min(average_skill_values)\n",
    "    avg_max: float = max(average_skill_values)\n",
    "    avg_min_max_diff = avg_max - avg_min\n",
    "\n",
    "    # Update high-score if the results for this skill are worse than anything encountered so far\n",
    "    if avg_min_max_diff > worst_min_max_diff:\n",
    "        worst_min_max_diff = avg_min_max_diff\n",
    "        worst_min_max_diff_index = skill_index\n",
    "\n",
    "    # Print the stats for the current skill\n",
    "    print(get_formated_skill_tag(skill_index) + \": \\tAVG_MIN=\" + str(round(avg_min, 1))\n",
    "          + \",\\tAVG_MAX=, \" + str(round(avg_max, 1)) +\n",
    "          \",\\tMAX_AVG_DIFF=\" + str(round(avg_max - avg_min, 1)))\n",
    "\n",
    "# Print the name of the skill that serves as metric for this partition.\n",
    "print(\"--------------\")\n",
    "print(\n",
    "    \"The worst difference in average skill values between two control groups in the given \"\n",
    "    \"partition appears for:\")\n",
    "print(\"\\t\\\"\" + full_skill_tags[worst_min_max_diff_index] + \"\\\", with a difference of \" + str(\n",
    "    round(worst_min_max_diff, 1)))\n"
   ]
  },
  {
   "cell_type": "markdown",
   "id": "bd1ed541",
   "metadata": {
    "pycharm": {
     "name": "#%% md\n"
    }
   },
   "source": [
    "## Step 2 - Fusing the data\n",
    "\n",
    "Throughout the experiment we measured different metrics per participant. Those are stored in separate CSV files. Some of them were auto-generated by additional scripts, some were created by hand.  \n",
    "In a first step we are going to fuse all individual CSV files, using the *participant codename* as key. The codename consists of a colour and an animal.\n",
    "\n",
    " > We used a total of 4 control groups, *Red*, *Green*, *Blue*, *Yellow*, each starring 7 participants. This setup was chosen to reduce learning effects.\n",
    " \n",
    " The outcome of below cell is a new file: ```restify.csv```.  \n",
    " This file lists all data we ever process in the following, indexed by *participant codename*."
   ]
  },
  {
   "cell_type": "code",
   "execution_count": null,
   "id": "0d697205",
   "metadata": {
    "pycharm": {
     "name": "#%%\n"
    }
   },
   "outputs": [],
   "source": [
    "\"\"\"\n",
    "This module updates the fused csv based on the current partial csv files found in\n",
    "\"source-csv-files\", persists the outcome to disk and displays the content.\n",
    "\"\"\"\n",
    "from csv_tools import csv_merger\n",
    "\n",
    "# Call the CSV merger, fuses all individual files based on participant group/codename as key.\n",
    "csv_merger.build_merged_csv()\n",
    "\n",
    "# Print the result\n",
    "restify_csv = open(\"generated-csv-files/restify.csv\", \"r\").read()\n",
    "print(restify_csv)\n"
   ]
  },
  {
   "cell_type": "markdown",
   "id": "35f4743e",
   "metadata": {
    "pycharm": {
     "name": "#%% md\n"
    }
   },
   "source": [
    "# Step 3 - Data Analysis\n",
    "\n",
    " * Overall population performance, all methodologies, all applications\n",
    "    * Overall population performance, manual tasks (percentage)\n",
    "    * Overall population performance, assisted tasks (percentage)\n",
    "\n",
    "Here comes a great and intuitive to read text that explains how the unit-test plot is produced and how to read the results.\n",
    "\n",
    "Key points:\n",
    "\n",
    "  * Black horizontal bars: all tests failed because the submission did not compile or was not executable.\n",
    "  * Black vertical bars: A test that failed for many participants.\n",
    "\n",
    "    TODO: plot needs more labels."
   ]
  },
  {
   "cell_type": "code",
   "execution_count": null,
   "id": "5381701f",
   "metadata": {
    "pycharm": {
     "name": "#%%\n"
    }
   },
   "outputs": [],
   "source": [
    "from csv_tools import file_load_utils\n",
    "from restify_mining.data_objects.assessed_participant import AssessedParticipant\n",
    "from restify_mining.unit_test_miners.all_participants_all_tests_miner import AllParticipantsAllTestsMiner\n",
    "from restify_mining.plotters.unit_test_plotter import mine_and_plot\n",
    "\n",
    "# Load all participant objects (specifies skills, codename, control-group) from csv file\n",
    "assessed_population: list[\n",
    "    AssessedParticipant] = file_load_utils.load_all_assessed_participants()\n",
    "\n",
    "# Create a 2D plot of all individual participant test results. On Y axis (vertical) all\n",
    "# participants, on X axis (horizontal) all unit tests. Created image shows a black square for\n",
    "# failed tests, coloured square (matching control group colour) for passed tests.\n",
    "with_colours: bool = True\n",
    "mine_and_plot(AllParticipantsAllTestsMiner(), with_colours, assessed_population)"
   ]
  },
  {
   "cell_type": "markdown",
   "source": [
    "## Similar, a heatmap with the average test results per control group (TODO, split into applications)\n",
    "\n",
    "Here comes a great and intuitive to read text that explains how the heatmap plot is produced and how to read the results.\n"
   ],
   "metadata": {
    "collapsed": false,
    "pycharm": {
     "name": "#%% md\n"
    }
   }
  },
  {
   "cell_type": "code",
   "execution_count": null,
   "id": "02e9820d",
   "metadata": {
    "pycharm": {
     "name": "#%%\n"
    }
   },
   "outputs": [],
   "source": [
    "from csv_tools import file_load_utils\n",
    "from restify_mining.data_objects.assessed_participant import AssessedParticipant\n",
    "from restify_mining.plotters import unit_test_plotter\n",
    "\n",
    "# Load all participant objects (specifies skills, codename, control-group) from csv file\n",
    "assessed_population: list[\n",
    "    AssessedParticipant] = file_load_utils.load_all_assessed_participants()\n",
    "\n",
    "# Visualize test results in 2D plot and safe to disk\n",
    "unit_test_plotter.plot_all_average_group_results(assessed_population)"
   ]
  }
 ],
 "metadata": {
  "kernelspec": {
   "display_name": "Python 3 (ipykernel)",
   "language": "python",
   "name": "python3"
  },
  "language_info": {
   "codemirror_mode": {
    "name": "ipython",
    "version": 3
   },
   "file_extension": ".py",
   "mimetype": "text/x-python",
   "name": "python",
   "nbconvert_exporter": "python",
   "pygments_lexer": "ipython3",
   "version": "3.10.8"
  }
 },
 "nbformat": 4,
 "nbformat_minor": 5
}