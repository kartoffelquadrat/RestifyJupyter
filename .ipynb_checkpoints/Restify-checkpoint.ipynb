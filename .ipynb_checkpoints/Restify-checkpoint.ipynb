{
 "cells": [
  {
   "cell_type": "markdown",
   "id": "976d78cb",
   "metadata": {},
   "source": [
    "# RESTify Controled Experiment Data Analysis\n",
    "\n",
    "Mining data gathered during the [RESTify Experiment](https://www.cs.mcgill.ca/~mschie3/recruitment/) for correlations and insights.\n",
    "\n",
    "## Step 1 - Representative population and fair group partition\n",
    "\n",
    "Even before we begin extracting any insights from collected observations, we demonstrate that out test population was representative. Likewise we demonstrate how the generated partition forms comparable control groups.\n",
    "\n",
    "### Test population\n",
    "\n",
    "We recruited 28 software engineers from various backgrounds and diverse preliminary skills regarding the experiment tasks. In a preliminary recruitment procedure participants were [asked to provide a self evaluation of their skills](https://www.cs.mcgill.ca/~mschie3/recruitment/self-assessment.txt), where 1 signifies no and 5 signifies expert knowledge.  \n",
    "\n",
    "#### Diversity\n",
    "\n",
    "We started with a preliminary analysis of the competence diversity, reflected by out test population. We therefore computed the gaussian distribution for every skill, across the entire population.  \n",
    "The outcome is depicted below:  \n"
   ]
  },
  {
   "cell_type": "code",
   "execution_count": 1,
   "id": "a2b729ed",
   "metadata": {},
   "outputs": [
    {
     "ename": "ModuleNotFoundError",
     "evalue": "No module named 'restifymining'",
     "output_type": "error",
     "traceback": [
      "\u001b[0;31m---------------------------------------------------------------------------\u001b[0m",
      "\u001b[0;31mModuleNotFoundError\u001b[0m                       Traceback (most recent call last)",
      "Input \u001b[0;32mIn [1]\u001b[0m, in \u001b[0;36m<cell line: 2>\u001b[0;34m()\u001b[0m\n\u001b[1;32m      1\u001b[0m \u001b[38;5;66;03m# read participant skill csv, build participant objects and visualize skill distribution\u001b[39;00m\n\u001b[0;32m----> 2\u001b[0m \u001b[38;5;28;01mfrom\u001b[39;00m \u001b[38;5;21;01mrestifymining\u001b[39;00m\u001b[38;5;21;01m.\u001b[39;00m\u001b[38;5;21;01mParticipant\u001b[39;00m \u001b[38;5;28;01mimport\u001b[39;00m Participant\n\u001b[1;32m      3\u001b[0m \u001b[38;5;28;01mfrom\u001b[39;00m \u001b[38;5;21;01mrestifymining\u001b[39;00m\u001b[38;5;21;01m.\u001b[39;00m\u001b[38;5;21;01mParticipantStatTools\u001b[39;00m \u001b[38;5;28;01mimport\u001b[39;00m build_mean_skills, build_standard_deviation_skills\n\u001b[1;32m      4\u001b[0m \u001b[38;5;28;01mfrom\u001b[39;00m \u001b[38;5;21;01mrestifymining\u001b[39;00m\u001b[38;5;21;01m.\u001b[39;00m\u001b[38;5;21;01mPlotter\u001b[39;00m \u001b[38;5;28;01mimport\u001b[39;00m plot_gaussian\n",
      "\u001b[0;31mModuleNotFoundError\u001b[0m: No module named 'restifymining'"
     ]
    }
   ],
   "source": [
    "# read participant skill csv, build participant objects and visualize skill distribution\n",
    "from restifymining.Participant import Participant\n",
    "from restifymining.ParticipantStatTools import build_mean_skills, build_standard_deviation_skills\n",
    "from restifymining.Plotter import plot_gaussian\n",
    "import csv\n",
    "\n",
    "## load all participant skill objects from csv file.\n",
    "participants = []\n",
    "with open('source-csv-files/partitionskills.csv', 'r') as f:\n",
    "    reader = csv.reader(f)\n",
    "    # Flag to skip first line which is only the CSV column markers\n",
    "    first=True\n",
    "    for row in reader:\n",
    "        if first:\n",
    "            first=False\n",
    "        else:\n",
    "            participants.append(Participant(row[0], [int(x) for x in row[1:]]))\n",
    "\n",
    "## compute a gaussian distribution (defined by mean and standard dev) for every skill and produce a plot\n",
    "skill_amount = len(participants[0].skills)\n",
    "mean_scores = build_mean_skills(participants)\n",
    "stddev_scores = build_standard_deviation_skills(participants)\n",
    "\n",
    "# define colours for plot\n",
    "palette = [\"#8d8d8d\", \"#5ce7cb\", \"#5ca6e7\", \"#7a5ce7\", \"#d75ce7\", \"#e75c90\", \"#e7865c\", \"#747474\"]\n",
    "\n",
    "# plot gaussian curbes for all participant skills\n",
    "for index in range(skill_amount):\n",
    "    plot_gaussian(mean_scores[index], stddev_scores[index], palette[index])\n",
    "\n",
    "\n"
   ]
  },
  {
   "cell_type": "markdown",
   "id": "f3b83b57",
   "metadata": {},
   "source": [
    "The above densities can be considered sufficiently diverse for the purpose of our study. Although the population showcases varying average skill scores, the population likewise showcases a substantial score diversity for every skill observed. Yet we are acknowledge that the above data stems from subjective self-evaluations and is not necessarily a ground truth indicator for the population's actual skill diversity.\n",
    "\n",
    "### Control groups\n",
    "\n",
    "Goal of the experiment is the comparison of refactoring methodologies. To eliminate learning effects we asked participants to apply the two methodologies on different applications. Eliminating potential bias by task and application order resulted in a participant repartition into four control groups.\n",
    "\n",
    "#### Heuristic Search for MiniMax\n",
    "We ran a heuristic balancing algorithm to obtain control groups with high comparability in regards to their average score per skill. The algorithm searched for the participant distribution with lowest difference in skill differences per pair of team. Specifically, on every iteration we used the highest score difference on the same skill for any pair of control groups as quality metric. The original partitions were highly comparable: For every tested partition, we computed the highest difference for skill scores between any pair of teams. Goal was to minimize the value as far as possible, resulting in control groups that are highly comparable in any skill. We called this goal the search for the *MiniMax*. The value obtained through our heuristic for the originally recruited population was as low as ```0.6```, that means no matter what skill and pair of groups compared, the average difference in skill was guaranteed to be equal or lower to ```0.6```.\n",
    "\n",
    "#### Droppers\n",
    "Unfortunately participants dropped out, even after having committed to a task. At this point we were able to hire replacements, however it was impossible to re-generate a fully optimized new control group repartition. At this point we had already received the first test results and since due to learning effects the study can not be run twice by the same participant, we had to reduce optimizations to a brute force testing of all permutations of dropped out participants and potential replacements. This adjustment had to be repeated three times, since participants kept dropping out, even after deadline extensions and reassured intent of participation.  \n",
    "Yet finally we were able to conclude the study with a population of 28 participants. Although comparability is not as optimal as in the original distribution, we were lucky enough to have ended up with somewhat comparable control groups.\n",
    "\n",
    "The full boxplot of skill distributions per control group and resulting MiniMax (grid, printed in bold) is generated below:"
   ]
  },
  {
   "cell_type": "code",
   "execution_count": 7,
   "id": "4e8bf8ce",
   "metadata": {},
   "outputs": [
    {
     "name": "stdout",
     "output_type": "stream",
     "text": [
      "le boxplot goes here\n"
     ]
    }
   ],
   "source": [
    "print(\"le boxplot goes here\")"
   ]
  },
  {
   "cell_type": "code",
   "execution_count": null,
   "id": "63721840",
   "metadata": {},
   "outputs": [],
   "source": [
    "print(\"le resulting stats grid and highight of resulting minimax, 1.43\")"
   ]
  },
  {
   "cell_type": "markdown",
   "id": "bd1ed541",
   "metadata": {},
   "source": [
    "## Step 2 - Fusing the data\n",
    "\n",
    "Throughout the experiment we measured different metrics per participant. Those are stored in separate CSV files. Some of them were auto-generated by additional scripts, some were created by hand.  \n",
    "In a first step we are going to fuse all individual CSV files, using the *participant codename* as key. The codename consists of a colour and an animal.\n",
    "\n",
    " > We used a total of 4 control groups, *Red*, *Green*, *Blue*, *Yellow*, each starring 7 participants. This setup was chosen to reduce learning effects.\n",
    " \n",
    " The outcome of below cell is a new file: ```restify.csv```.  \n",
    " This file lists all data we ever process in the following, indexed by *participant codename*."
   ]
  },
  {
   "cell_type": "code",
   "execution_count": 8,
   "id": "0d697205",
   "metadata": {},
   "outputs": [
    {
     "name": "stdout",
     "output_type": "stream",
     "text": [
      "codename,manualstatus,manualsuccessrate,assistedstatus,assistedsuccessrate,firstapproach,secondapproach,firstapp,secondapp,javaskill,springskill,mavenskill,touchcoreskill,unixskill,restskill,singletonskill,reflectionskill\n",
      "Blue-Fox,OK,8-8,OK,8-12,touchcore,manual,xox,bookstore,2,1,2,4,5,3,5,4\n",
      "Blue-Raccoon,OK,8-8,OK,7-12,touchcore,manual,xox,bookstore,3,1,2,2,4,3,5,1\n",
      "Blue-Turtle,OK,3-8,NR,0,touchcore,manual,xox,bookstore,4,3,4,4,5,4,5,4\n",
      "Blue-Unicorn,OK,8-8,OK,5-12,touchcore,manual,xox,bookstore,4,3,3,2,4,4,5,2\n",
      "Blue-Zebra,OK,8-8,OK,7-12,touchcore,manual,xox,bookstore,3,1,2,3,2,4,5,4\n",
      "Green-Fox,OK,7-8,NR,0,manual,touchcore,bookstore,xox,3,3,2,2,4,4,3,4\n",
      "Green-Koala,OK,8-8,OK,7-12,manual,touchcore,bookstore,xox,4,2,3,5,5,4,5,4\n",
      "Green-Raccoon,OK,6-8,OK,6-12,manual,touchcore,bookstore,xox,2,2,1,1,2,5,5,4\n",
      "Green-Squid,OK,8-8,NR,0,manual,touchcore,bookstore,xox,3,2,2,3,3,3,2,1\n",
      "Green-Turtle,OK,8-8,NR,0,manual,touchcore,bookstore,xox,3,3,3,4,4,4,3,3\n",
      "Green-Unicorn,OK,8-8,NR,0,manual,touchcore,bookstore,xox,3,2,5,1,4,3,5,4\n",
      "Green-Zebra,OK,4-8,OK,12-12,manual,touchcore,bookstore,xox,2,1,2,1,5,3,4,3\n",
      "Red-Fox,OK,6-12,OK,0-8,touchcore,manual,bookstore,xox,3,2,3,1,4,2,5,4\n",
      "Red-Koala,OK,12-12,OK,8-8,touchcore,manual,bookstore,xox,4,2,1,5,4,5,5,4\n",
      "Red-Raccoon,OK,10-12,NR,0,touchcore,manual,bookstore,xox,3,3,3,1,4,4,1,1\n",
      "Red-Squid,OK,12-12,NR,0,touchcore,manual,bookstore,xox,3,1,2,1,4,2,5,1\n",
      "Red-Turtle,OK,12-12,OK,7-8,touchcore,manual,bookstore,xox,2,4,3,4,4,5,5,2\n",
      "Red-Unicorn,OK,12-12,OK,6-8,touchcore,manual,bookstore,xox,4,4,2,3,4,5,1,3\n",
      "Yellow-Fox,OK,12-12,OK,8-8,manual,touchcore,xox,bookstore,4,4,3,1,4,2,5,4\n",
      "Yellow-Koala,OK,12-12,OK,6-8,manual,touchcore,xox,bookstore,2,1,2,1,4,3,5,4\n",
      "Yellow-Raccoon,OK,6-12,NC,0,manual,touchcore,xox,bookstore,4,1,2,3,5,3,2,3\n",
      "Yellow-Squid,OK,12-12,,,manual,touchcore,xox,bookstore,2,1,1,1,3,4,5,4\n",
      "Yellow-Turtle,OK,12-12,OK,3-8,manual,touchcore,xox,bookstore,4,2,3,5,4,4,5,3\n",
      "Yellow-Unicorn,OK,12-12,OK,3-8,manual,touchcore,xox,bookstore,3,3,3,4,4,4,5,3\n",
      "Yellow-Zebra,OK,12-12,OK,4-8,manual,touchcore,xox,bookstore,3,1,2,4,4,4,4,1\n",
      "\n"
     ]
    }
   ],
   "source": [
    "import pandas as pd\n",
    "\n",
    "# Merge the individual key files. Use participant code name as key.\n",
    "statscsv=pd.read_csv(\"source-csv-files/stats.csv\")\n",
    "taskcsv=pd.read_csv(\"source-csv-files/tasks.csv\")\n",
    "skillcsv=pd.read_csv(\"source-csv-files/partitionskills.csv\")\n",
    "intermediate1=statscsv.merge(taskcsv,on=\"codename\")\n",
    "result=intermediate1.merge(skillcsv,on=\"codename\")\n",
    "result.to_csv(\"restify.csv\", index=None)\n",
    "\n",
    "# Print the result\n",
    "restifycsv = open(\"restify.csv\", \"r\").read()\n",
    "print(restifycsv)"
   ]
  }
 ],
 "metadata": {
  "kernelspec": {
   "display_name": "Python 3 (ipykernel)",
   "language": "python",
   "name": "python3"
  },
  "language_info": {
   "codemirror_mode": {
    "name": "ipython",
    "version": 3
   },
   "file_extension": ".py",
   "mimetype": "text/x-python",
   "name": "python",
   "nbconvert_exporter": "python",
   "pygments_lexer": "ipython3",
   "version": "3.9.13"
  }
 },
 "nbformat": 4,
 "nbformat_minor": 5
}
